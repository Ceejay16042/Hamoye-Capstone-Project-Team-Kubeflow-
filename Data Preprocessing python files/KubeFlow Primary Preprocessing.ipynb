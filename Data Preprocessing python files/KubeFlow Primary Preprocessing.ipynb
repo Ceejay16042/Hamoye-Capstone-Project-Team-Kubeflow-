{
 "cells": [
  {
   "cell_type": "code",
   "execution_count": 1,
   "id": "3d76494f",
   "metadata": {},
   "outputs": [],
   "source": [
    "import pandas as pd\n",
    "\n",
    "df = pd.read_csv(\"Raw primary.csv\")"
   ]
  },
  {
   "cell_type": "code",
   "execution_count": 2,
   "id": "dd169599",
   "metadata": {},
   "outputs": [],
   "source": [
    "# Drop unnecessary columns\n",
    "columns_to_drop = ['Target', 'Indicator Number', 'Metadata']\n",
    "df = df.drop(columns=columns_to_drop, axis='columns')"
   ]
  },
  {
   "cell_type": "code",
   "execution_count": 3,
   "id": "58ad4ddb",
   "metadata": {},
   "outputs": [],
   "source": [
    "# Pivoting the Indicator name column into multiple columns\n",
    "df_pivoted = df.pivot_table(index=[\"Region\", \"Country\", \"Year\"], columns=\"Indicator Name\", values=\"Value\").reset_index()"
   ]
  },
  {
   "cell_type": "code",
   "execution_count": 4,
   "id": "6e885e3d",
   "metadata": {},
   "outputs": [
    {
     "data": {
      "text/plain": [
       "Index(['Region', 'Country', 'Indicator Name', 'Year', 'Value'], dtype='object')"
      ]
     },
     "execution_count": 4,
     "metadata": {},
     "output_type": "execute_result"
    }
   ],
   "source": [
    "df.columns"
   ]
  },
  {
   "cell_type": "code",
   "execution_count": 5,
   "id": "e957a4aa",
   "metadata": {},
   "outputs": [],
   "source": [
    "# Extracting gender information and remove it from the column names\n",
    "df_pivoted.columns = df_pivoted.columns.str.replace(r'\\s+\\(%\\w+\\)$', '')\n",
    "df_pivoted.columns.name = None\n",
    "\n",
    "# Melting the pivoted DataFrame to reshape it\n",
    "df_melted = df_pivoted.melt(id_vars=[\"Region\", \"Country\", \"Year\"], var_name=\"Indicator Name\", value_name=\"Value\")\n",
    "\n",
    "# Spliting the \"Indicator Name\" column into \"Indicator\" and \"Gender\"\n",
    "df_melted[['Indicator', 'Gender']] = df_melted['Indicator Name'].str.extract(r'(.*)\\s+(male|female)')\n",
    "\n",
    "# Drop the \"Indicator Name\" column\n",
    "df_melted = df_melted.drop(columns=[\"Indicator Name\"])\n",
    "\n",
    "# Pivot the melted DataFrame to create separate columns for each indicator and gender\n",
    "df_final = df_melted.pivot_table(index=[\"Region\", \"Country\", \"Year\", \"Gender\"], columns=\"Indicator\", values=\"Value\").reset_index()\n",
    "\n",
    "column_order = ['Region', 'Country', 'Year', 'Gender'] + list(df_final.columns[4:])\n",
    "df_final = df_final[column_order]\n",
    "\n",
    "\n",
    "df_final.to_csv(\"KubeFlow Primary.csv\")"
   ]
  },
  {
   "cell_type": "code",
   "execution_count": 6,
   "id": "ed16c221",
   "metadata": {},
   "outputs": [
    {
     "data": {
      "text/plain": [
       "Index(['Region', 'Country', 'Year', 'Gender',\n",
       "       'Completion rate, primary education,',\n",
       "       'Gross enrolment ratio, early childhood education,',\n",
       "       'Gross enrolment ratio, early childhood educational development programmes,',\n",
       "       'Gross intake ratio to the last grade of primary education,',\n",
       "       'Literacy rate, population 25-64 years,',\n",
       "       'Percentage of children under 5 years experiencing positive and stimulating home learning environments,',\n",
       "       'Percentage of students at the end of primary education who have their first or home language as language of instruction,',\n",
       "       'Percentage of teachers in primary education who received in-service training in the last 12 months by type of training,',\n",
       "       'Teacher attrition rate from primary education,'],\n",
       "      dtype='object', name='Indicator')"
      ]
     },
     "execution_count": 6,
     "metadata": {},
     "output_type": "execute_result"
    }
   ],
   "source": [
    "df_final.columns"
   ]
  },
  {
   "cell_type": "code",
   "execution_count": 7,
   "id": "076e8360",
   "metadata": {},
   "outputs": [
    {
     "data": {
      "text/plain": [
       "(4399, 13)"
      ]
     },
     "execution_count": 7,
     "metadata": {},
     "output_type": "execute_result"
    }
   ],
   "source": [
    "df_final.shape"
   ]
  },
  {
   "cell_type": "code",
   "execution_count": 8,
   "id": "ab00ad51",
   "metadata": {},
   "outputs": [
    {
     "data": {
      "text/plain": [
       "(4399, 13)"
      ]
     },
     "execution_count": 8,
     "metadata": {},
     "output_type": "execute_result"
    }
   ],
   "source": [
    "# Drop any duplicate rows from the merged dataframe\n",
    "df_final = df_final.drop_duplicates()\n",
    "df_final.shape"
   ]
  },
  {
   "cell_type": "code",
   "execution_count": 9,
   "id": "8db02161",
   "metadata": {},
   "outputs": [],
   "source": [
    "df_Addcol = pd.read_csv(\"primary metadata.csv\")\n",
    "\n",
    "columns_to_drop = ['Target', 'Indicator Number', 'Metadata']\n",
    "df_Addcol = df_Addcol.drop(columns=columns_to_drop, axis='columns')\n",
    "\n",
    "# Pivot the Indicator name column into multiple columns\n",
    "df_Addcol = df_Addcol.pivot_table(index=[\"Region\", \"Country\", \"Year\"], columns=\"Indicator Name\", values=\"Value\")\n",
    "\n",
    "df_Addcol.to_csv(\"try1.csv\")"
   ]
  },
  {
   "cell_type": "code",
   "execution_count": 10,
   "id": "e44cd9d1",
   "metadata": {},
   "outputs": [
    {
     "name": "stdout",
     "output_type": "stream",
     "text": [
      "Indicator Name\n",
      "Completion rate, primary education, female (%)                                                                                          896\n",
      "Completion rate, primary education, male (%)                                                                                            896\n",
      "Existence of funding mechanisms to reallocate education resources to disadvantaged populations                                         2227\n",
      "Expenditure on education as a percentage of total government expenditure (%)                                                            520\n",
      "Government expenditure on education as a percentage of GDP (%)                                                                          517\n",
      "Gross enrolment ratio, early childhood education, female (%)                                                                            920\n",
      "Gross enrolment ratio, early childhood education, male (%)                                                                              921\n",
      "Gross enrolment ratio, early childhood educational development programmes, female (%)                                                   476\n",
      "Gross enrolment ratio, early childhood educational development programmes, male (%)                                                     476\n",
      "Gross intake ratio to the last grade of primary education, female (%)                                                                   918\n",
      "Gross intake ratio to the last grade of primary education, male (%)                                                                     917\n",
      "Initial government funding per primary student as a percentage of GDP per capita                                                       1499\n",
      "Literacy rate, population 25-64 years, female (%)                                                                                      1861\n",
      "Literacy rate, population 25-64 years, male (%)                                                                                        1861\n",
      "Percentage of children under 5 years experiencing positive and stimulating home learning environments, female (%)                      2241\n",
      "Percentage of children under 5 years experiencing positive and stimulating home learning environments, male (%)                        2241\n",
      "Percentage of students at the end of primary education who have their first or home language as language of instruction, female (%)    2275\n",
      "Percentage of students at the end of primary education who have their first or home language as language of instruction, male (%)      2275\n",
      "Percentage of teachers in primary education who received in-service training in the last 12 months by type of training, female         2160\n",
      "Percentage of teachers in primary education who received in-service training in the last 12 months by type of training, male           2160\n",
      "Proportion of teachers with the minimum required qualifications in primary education, adjusted gender parity index (GPIA)              1490\n",
      "Teacher attrition rate from primary education, female (%)                                                                              2101\n",
      "Teacher attrition rate from primary education, male (%)                                                                                2102\n",
      "dtype: int64\n"
     ]
    }
   ],
   "source": [
    "print(df_Addcol.isnull().sum())"
   ]
  },
  {
   "cell_type": "code",
   "execution_count": 11,
   "id": "36701b27",
   "metadata": {},
   "outputs": [],
   "source": [
    "# first dataset\n",
    "df1 = pd.read_csv(\"KubeFlow Primary.csv\")\n",
    "\n",
    "# second dataset \n",
    "df2 = pd.read_csv(\"try1.csv\")\n",
    "\n",
    "# Selecting the columns from the second dataset that to add to the first one\n",
    "cols = [\"Existence of funding mechanisms to reallocate education resources to disadvantaged populations\", \"Expenditure on education as a percentage of total government expenditure (%)\", \"Government expenditure on education as a percentage of GDP (%)\",\"Proportion of teachers with the minimum required qualifications in primary education, adjusted gender parity index (GPIA)\"]\n",
    "\n",
    "# Merging the two dataframes on country and year, keeping only the selected columns from the second one\n",
    "df_merged = pd.merge(df1, df2[[\"Country\", \"Year\"] + cols], on=[\"Country\", \"Year\"], how=\"left\")\n",
    "\n",
    "# Drop duplicate rows from the merged dataframe\n",
    "df_merged = df_merged.drop_duplicates()\n",
    "\n"
   ]
  },
  {
   "cell_type": "code",
   "execution_count": 12,
   "id": "e199b9b3",
   "metadata": {},
   "outputs": [
    {
     "data": {
      "text/plain": [
       "(4399, 18)"
      ]
     },
     "execution_count": 12,
     "metadata": {},
     "output_type": "execute_result"
    }
   ],
   "source": [
    "df_merged.shape"
   ]
  },
  {
   "cell_type": "markdown",
   "id": "abbb6e7e",
   "metadata": {},
   "source": [
    "# Removing duplicate regions\n",
    "As you can see below the region - Central Asia & Southern Asia are created separately but we a region Central and Southern Asia which has countries present in both/ so we will drop the separately created regions "
   ]
  },
  {
   "cell_type": "code",
   "execution_count": 13,
   "id": "67c3f256",
   "metadata": {},
   "outputs": [
    {
     "name": "stdout",
     "output_type": "stream",
     "text": [
      "India appears 44 times in the first dataset.\n"
     ]
    }
   ],
   "source": [
    "\n",
    "country_counts = df_merged[\"Country\"].value_counts()\n",
    "\n",
    "country = \"India\"\n",
    "\n",
    "print(\"{} appears {} times in the first dataset.\".format(country, country_counts[country]))"
   ]
  },
  {
   "cell_type": "code",
   "execution_count": 14,
   "id": "be8ff148",
   "metadata": {},
   "outputs": [
    {
     "name": "stdout",
     "output_type": "stream",
     "text": [
      "The unique regions in the dataset are:\n",
      "['SDG: Central Asia' 'SDG: Central and Southern Asia'\n",
      " 'SDG: Eastern and South-Eastern Asia' 'SDG: Europe and Northern America'\n",
      " 'SDG: Latin America and the Caribbean'\n",
      " 'SDG: Northern Africa and Western Asia' 'SDG: Oceania'\n",
      " 'SDG: Southern Asia' 'SDG: Sub-Saharan Africa']\n"
     ]
    }
   ],
   "source": [
    "\n",
    "regions = df_merged[\"Region\"].unique()\n",
    "\n",
    "print(\"The unique regions in the dataset are:\")\n",
    "print(regions)"
   ]
  },
  {
   "cell_type": "code",
   "execution_count": 15,
   "id": "744bf0b9",
   "metadata": {},
   "outputs": [
    {
     "name": "stdout",
     "output_type": "stream",
     "text": [
      "The unique countries in each region are:\n",
      "Region\n",
      "SDG: Central Asia                        [Kazakhstan, Kyrgyzstan, Tajikistan, Turkmenis...\n",
      "SDG: Central and Southern Asia           [Kazakhstan, Kyrgyzstan, Tajikistan, Turkmenis...\n",
      "SDG: Eastern and South-Eastern Asia      [Brunei Darussalam, Cambodia, China, China, Ho...\n",
      "SDG: Europe and Northern America         [Albania, Andorra, Austria, Belarus, Belgium, ...\n",
      "SDG: Latin America and the Caribbean     [Anguilla, Antigua and Barbuda, Argentina, Aru...\n",
      "SDG: Northern Africa and Western Asia    [Algeria, Armenia, Azerbaijan, Bahrain, Cyprus...\n",
      "SDG: Oceania                             [Australia, Cook Islands, Fiji, Kiribati, Mars...\n",
      "SDG: Southern Asia                       [Afghanistan, Bangladesh, Bhutan, India, Iran ...\n",
      "SDG: Sub-Saharan Africa                  [Angola, Benin, Botswana, Burkina Faso, Burund...\n",
      "Name: Country, dtype: object\n"
     ]
    }
   ],
   "source": [
    "# Grouping the dataframe by Region and get the unique countries in each group\n",
    "country_groups = df_merged.groupby(\"Region\")[\"Country\"].unique()\n",
    "\n",
    "print(\"The unique countries in each region are:\")\n",
    "print(country_groups)"
   ]
  },
  {
   "cell_type": "code",
   "execution_count": 16,
   "id": "c4002811",
   "metadata": {},
   "outputs": [],
   "source": [
    "# Drop the rows with the regions 'SDG: Central Asia' and 'SDG: Southern Asia'\n",
    "df_merged = df_merged.drop(df_merged[(df_merged[\"Region\"] == \"SDG: Central Asia\") | (df_merged[\"Region\"] == \"SDG: Southern Asia\")].index)"
   ]
  },
  {
   "cell_type": "code",
   "execution_count": 17,
   "id": "eb20c5bb",
   "metadata": {},
   "outputs": [
    {
     "name": "stdout",
     "output_type": "stream",
     "text": [
      "India appears 22 times in the first dataset.\n"
     ]
    }
   ],
   "source": [
    "\n",
    "country_counts = df_merged[\"Country\"].value_counts()\n",
    "\n",
    "country = \"India\"\n",
    "\n",
    "print(\"{} appears {} times in the first dataset.\".format(country, country_counts[country]))"
   ]
  },
  {
   "cell_type": "code",
   "execution_count": 18,
   "id": "a47875dd",
   "metadata": {},
   "outputs": [
    {
     "data": {
      "text/plain": [
       "(4105, 18)"
      ]
     },
     "execution_count": 18,
     "metadata": {},
     "output_type": "execute_result"
    }
   ],
   "source": [
    "df_merged.shape"
   ]
  },
  {
   "cell_type": "markdown",
   "id": "5b10572e",
   "metadata": {},
   "source": [
    "# Keeping only the devloping countries in the dataset"
   ]
  },
  {
   "cell_type": "code",
   "execution_count": 19,
   "id": "b5d992ea",
   "metadata": {},
   "outputs": [],
   "source": [
    "devloping_countries = ['Afghanistan',\n",
    "'Albania',\n",
    "'Algeria',\n",
    "'American Samoa',\n",
    "'Angola',\n",
    "'Antigua and Barbuda',\n",
    "'Argentina',\n",
    "'Armenia',\n",
    "'Azerbaijan',\n",
    "'Bangladesh',\n",
    "'Belarus',\n",
    "'Belize',\n",
    "'Benin',\n",
    "'Bhutan',\n",
    "'Bolivia',\n",
    "'Bosnia and Herzegovina',\n",
    "'Botswana',\n",
    "'Brazil',\n",
    "'Bulgaria',\n",
    "'Burkina Faso',\n",
    "'Burundi',\n",
    "'Cambodia',\n",
    "'Cameroon',\n",
    "'Cape Verde',\n",
    "'Central African Republic',\n",
    "'Chad',\n",
    "'Chile',\n",
    "'China',\n",
    "'Colombia',\n",
    "'Comoros',\n",
    "'Congo, Dem. Rep',\n",
    "'Congo, Rep.',\n",
    "'Costa Rica',\n",
    "'Côte d’Ivoire',\n",
    "'Cuba',\n",
    "'Djibouti',\n",
    "'Dominica',\n",
    "'Dominican Republic',\n",
    "'Ecuador',\n",
    "'Egypt, Arab Rep.',\n",
    "'El Salvador',\n",
    "'Eritrea',\n",
    "'Ethiopia',\n",
    "'Fiji',\n",
    "'Gabon',\n",
    "'Gambia',\n",
    "'Georgia',\n",
    "'Ghana',\n",
    "'Grenada',\n",
    "'Guatemala',\n",
    "'Guinea',\n",
    "'Guinea-Bisau',\n",
    "'Guyana',\n",
    "'Haiti',\n",
    "'Honduras',\n",
    "'India',\n",
    "'Indonesia',\n",
    "'Iran, Islamic Rep.',\n",
    "'Iraq',\n",
    "'Jamaica',\n",
    "'Jordan',\n",
    "'Kazakhstan',\n",
    "'Kenya',\n",
    "'Kiribati',\n",
    "'Korea, Dem Rep.',\n",
    "'Kosovo',\n",
    "'Kyrgyz Republic',\n",
    "'Lao PDR',\n",
    "'Latvia',\n",
    "'Lebanon',\n",
    "'Lesotho',\n",
    "'Liberia',\n",
    "'Libya',\n",
    "'Lithuania',\n",
    "'Macedonia, FYR',\n",
    "'Madagascar',\n",
    "'Malawi',\n",
    "'Malaysia',\n",
    "'Maldives',\n",
    "'Mali',\n",
    "'Marshall Islands',\n",
    "'Mauritania',\n",
    "'Mauritius',\n",
    "'Mayotte',\n",
    "'Mexico',\n",
    "'Micronesia, Fed. Sts.',\n",
    "'Moldova',\n",
    "'Mongolia',\n",
    "'Montenegro',\n",
    "'Morocco',\n",
    "'Mozambique',\n",
    "'Myanmar',\n",
    "'Namibia',\n",
    "'Nepal',\n",
    "'Nicaragua',\n",
    "'Niger',\n",
    "'Nigeria',\n",
    "'Pakistan',\n",
    "'Palau',\n",
    "'Panama',\n",
    "'Papua New Guinea',\n",
    "'Paraguay',\n",
    "'Peru',\n",
    "'Philippines',\n",
    "'Romania',\n",
    "'Russian Federation',\n",
    "'Rwanda',\n",
    "'Samoa',\n",
    "'São Tomé and Principe',\n",
    "'Senegal',\n",
    "'Serbia',\n",
    "'Seychelles',\n",
    "'Sierra Leone',\n",
    "'Solomon Islands',\n",
    "'Somalia',\n",
    "'South Africa',\n",
    "'Sri Lanka',\n",
    "'St. Kitts and Nevis',\n",
    "'St. Lucia',\n",
    "'St. Vincent and the Grenadines',\n",
    "'Sudan',\n",
    "'Suriname',\n",
    "'Swaziland',\n",
    "'Syrian Arab Republic',\n",
    "'Tajikistan',\n",
    "'Tanzania',\n",
    "'Thailand',\n",
    "'Timor-Leste',\n",
    "'Togo',\n",
    "'Tonga',\n",
    "'Tunisia',\n",
    "'Turkey',\n",
    "'Turkmenistan',\n",
    "'Tuvalu',\n",
    "'Uganda',\n",
    "'Ukraine',\n",
    "'Uruguay',\n",
    "'Uzbekistan',\n",
    "'Vanuatu',\n",
    "'Venezuela',\n",
    "'Vietnam',\n",
    "'West Bank and Gaza',\n",
    "'Yemen, Rep.',\n",
    "'Zambia',\n",
    "'Zimbabwe']\n"
   ]
  },
  {
   "cell_type": "code",
   "execution_count": 20,
   "id": "641352c6",
   "metadata": {},
   "outputs": [
    {
     "data": {
      "text/plain": [
       "145"
      ]
     },
     "execution_count": 20,
     "metadata": {},
     "output_type": "execute_result"
    }
   ],
   "source": [
    "len(devloping_countries)"
   ]
  },
  {
   "cell_type": "code",
   "execution_count": 21,
   "id": "d6e7e467",
   "metadata": {},
   "outputs": [],
   "source": [
    "filtered_df = df_merged[df_merged['Country'].isin(devloping_countries)]"
   ]
  },
  {
   "cell_type": "code",
   "execution_count": 22,
   "id": "32a92d4d",
   "metadata": {},
   "outputs": [
    {
     "data": {
      "text/plain": [
       "(2353, 18)"
      ]
     },
     "execution_count": 22,
     "metadata": {},
     "output_type": "execute_result"
    }
   ],
   "source": [
    "filtered_df.shape"
   ]
  },
  {
   "cell_type": "code",
   "execution_count": 23,
   "id": "e37fd716",
   "metadata": {},
   "outputs": [],
   "source": [
    "# Saving the dataframe as a new CSV file\n",
    "filtered_df.to_csv(\"Primary final.csv\", index=False)"
   ]
  },
  {
   "cell_type": "code",
   "execution_count": null,
   "id": "0b19eb11",
   "metadata": {},
   "outputs": [],
   "source": []
  },
  {
   "cell_type": "markdown",
   "id": "1f89135c",
   "metadata": {},
   "source": [
    "\n",
    "# Data Cleaning"
   ]
  },
  {
   "cell_type": "code",
   "execution_count": 24,
   "id": "48a6b455",
   "metadata": {},
   "outputs": [],
   "source": [
    "import pandas as pd\n",
    "import matplotlib.pyplot as plt\n",
    "\n",
    "df=pd.read_csv(\"Primary final.csv\")"
   ]
  },
  {
   "cell_type": "code",
   "execution_count": 25,
   "id": "baa83fbb",
   "metadata": {},
   "outputs": [
    {
     "data": {
      "text/html": [
       "<div>\n",
       "<style scoped>\n",
       "    .dataframe tbody tr th:only-of-type {\n",
       "        vertical-align: middle;\n",
       "    }\n",
       "\n",
       "    .dataframe tbody tr th {\n",
       "        vertical-align: top;\n",
       "    }\n",
       "\n",
       "    .dataframe thead th {\n",
       "        text-align: right;\n",
       "    }\n",
       "</style>\n",
       "<table border=\"1\" class=\"dataframe\">\n",
       "  <thead>\n",
       "    <tr style=\"text-align: right;\">\n",
       "      <th></th>\n",
       "      <th>Unnamed: 0</th>\n",
       "      <th>Region</th>\n",
       "      <th>Country</th>\n",
       "      <th>Year</th>\n",
       "      <th>Gender</th>\n",
       "      <th>Completion rate, primary education,</th>\n",
       "      <th>Gross enrolment ratio, early childhood education,</th>\n",
       "      <th>Gross enrolment ratio, early childhood educational development programmes,</th>\n",
       "      <th>Gross intake ratio to the last grade of primary education,</th>\n",
       "      <th>Literacy rate, population 25-64 years,</th>\n",
       "      <th>Percentage of children under 5 years experiencing positive and stimulating home learning environments,</th>\n",
       "      <th>Percentage of students at the end of primary education who have their first or home language as language of instruction,</th>\n",
       "      <th>Percentage of teachers in primary education who received in-service training in the last 12 months by type of training,</th>\n",
       "      <th>Teacher attrition rate from primary education,</th>\n",
       "      <th>Existence of funding mechanisms to reallocate education resources to disadvantaged populations</th>\n",
       "      <th>Expenditure on education as a percentage of total government expenditure (%)</th>\n",
       "      <th>Government expenditure on education as a percentage of GDP (%)</th>\n",
       "      <th>Proportion of teachers with the minimum required qualifications in primary education, adjusted gender parity index (GPIA)</th>\n",
       "    </tr>\n",
       "  </thead>\n",
       "  <tbody>\n",
       "    <tr>\n",
       "      <th>0</th>\n",
       "      <td>98</td>\n",
       "      <td>SDG: Central and Southern Asia</td>\n",
       "      <td>Kazakhstan</td>\n",
       "      <td>2012</td>\n",
       "      <td>female</td>\n",
       "      <td>99.8</td>\n",
       "      <td>NaN</td>\n",
       "      <td>NaN</td>\n",
       "      <td>108.19</td>\n",
       "      <td>NaN</td>\n",
       "      <td>NaN</td>\n",
       "      <td>NaN</td>\n",
       "      <td>NaN</td>\n",
       "      <td>NaN</td>\n",
       "      <td>NaN</td>\n",
       "      <td>19.25</td>\n",
       "      <td>3.90</td>\n",
       "      <td>NaN</td>\n",
       "    </tr>\n",
       "    <tr>\n",
       "      <th>1</th>\n",
       "      <td>99</td>\n",
       "      <td>SDG: Central and Southern Asia</td>\n",
       "      <td>Kazakhstan</td>\n",
       "      <td>2012</td>\n",
       "      <td>male</td>\n",
       "      <td>99.7</td>\n",
       "      <td>NaN</td>\n",
       "      <td>NaN</td>\n",
       "      <td>106.88</td>\n",
       "      <td>NaN</td>\n",
       "      <td>NaN</td>\n",
       "      <td>NaN</td>\n",
       "      <td>NaN</td>\n",
       "      <td>NaN</td>\n",
       "      <td>NaN</td>\n",
       "      <td>19.25</td>\n",
       "      <td>3.90</td>\n",
       "      <td>NaN</td>\n",
       "    </tr>\n",
       "    <tr>\n",
       "      <th>2</th>\n",
       "      <td>100</td>\n",
       "      <td>SDG: Central and Southern Asia</td>\n",
       "      <td>Kazakhstan</td>\n",
       "      <td>2013</td>\n",
       "      <td>female</td>\n",
       "      <td>99.9</td>\n",
       "      <td>NaN</td>\n",
       "      <td>NaN</td>\n",
       "      <td>109.76</td>\n",
       "      <td>NaN</td>\n",
       "      <td>NaN</td>\n",
       "      <td>NaN</td>\n",
       "      <td>NaN</td>\n",
       "      <td>NaN</td>\n",
       "      <td>NaN</td>\n",
       "      <td>17.96</td>\n",
       "      <td>3.44</td>\n",
       "      <td>NaN</td>\n",
       "    </tr>\n",
       "    <tr>\n",
       "      <th>3</th>\n",
       "      <td>101</td>\n",
       "      <td>SDG: Central and Southern Asia</td>\n",
       "      <td>Kazakhstan</td>\n",
       "      <td>2013</td>\n",
       "      <td>male</td>\n",
       "      <td>99.8</td>\n",
       "      <td>NaN</td>\n",
       "      <td>NaN</td>\n",
       "      <td>108.90</td>\n",
       "      <td>NaN</td>\n",
       "      <td>NaN</td>\n",
       "      <td>NaN</td>\n",
       "      <td>NaN</td>\n",
       "      <td>NaN</td>\n",
       "      <td>NaN</td>\n",
       "      <td>17.96</td>\n",
       "      <td>3.44</td>\n",
       "      <td>NaN</td>\n",
       "    </tr>\n",
       "    <tr>\n",
       "      <th>4</th>\n",
       "      <td>102</td>\n",
       "      <td>SDG: Central and Southern Asia</td>\n",
       "      <td>Kazakhstan</td>\n",
       "      <td>2014</td>\n",
       "      <td>female</td>\n",
       "      <td>99.9</td>\n",
       "      <td>36.65</td>\n",
       "      <td>0.0</td>\n",
       "      <td>115.17</td>\n",
       "      <td>NaN</td>\n",
       "      <td>NaN</td>\n",
       "      <td>NaN</td>\n",
       "      <td>NaN</td>\n",
       "      <td>NaN</td>\n",
       "      <td>NaN</td>\n",
       "      <td>17.32</td>\n",
       "      <td>3.42</td>\n",
       "      <td>1.0</td>\n",
       "    </tr>\n",
       "  </tbody>\n",
       "</table>\n",
       "</div>"
      ],
      "text/plain": [
       "   Unnamed: 0                          Region     Country  Year  Gender  \\\n",
       "0          98  SDG: Central and Southern Asia  Kazakhstan  2012  female   \n",
       "1          99  SDG: Central and Southern Asia  Kazakhstan  2012    male   \n",
       "2         100  SDG: Central and Southern Asia  Kazakhstan  2013  female   \n",
       "3         101  SDG: Central and Southern Asia  Kazakhstan  2013    male   \n",
       "4         102  SDG: Central and Southern Asia  Kazakhstan  2014  female   \n",
       "\n",
       "   Completion rate, primary education,  \\\n",
       "0                                 99.8   \n",
       "1                                 99.7   \n",
       "2                                 99.9   \n",
       "3                                 99.8   \n",
       "4                                 99.9   \n",
       "\n",
       "   Gross enrolment ratio, early childhood education,  \\\n",
       "0                                                NaN   \n",
       "1                                                NaN   \n",
       "2                                                NaN   \n",
       "3                                                NaN   \n",
       "4                                              36.65   \n",
       "\n",
       "   Gross enrolment ratio, early childhood educational development programmes,  \\\n",
       "0                                                NaN                            \n",
       "1                                                NaN                            \n",
       "2                                                NaN                            \n",
       "3                                                NaN                            \n",
       "4                                                0.0                            \n",
       "\n",
       "   Gross intake ratio to the last grade of primary education,  \\\n",
       "0                                             108.19            \n",
       "1                                             106.88            \n",
       "2                                             109.76            \n",
       "3                                             108.90            \n",
       "4                                             115.17            \n",
       "\n",
       "   Literacy rate, population 25-64 years,  \\\n",
       "0                                     NaN   \n",
       "1                                     NaN   \n",
       "2                                     NaN   \n",
       "3                                     NaN   \n",
       "4                                     NaN   \n",
       "\n",
       "   Percentage of children under 5 years experiencing positive and stimulating home learning environments,  \\\n",
       "0                                                NaN                                                        \n",
       "1                                                NaN                                                        \n",
       "2                                                NaN                                                        \n",
       "3                                                NaN                                                        \n",
       "4                                                NaN                                                        \n",
       "\n",
       "   Percentage of students at the end of primary education who have their first or home language as language of instruction,  \\\n",
       "0                                                NaN                                                                          \n",
       "1                                                NaN                                                                          \n",
       "2                                                NaN                                                                          \n",
       "3                                                NaN                                                                          \n",
       "4                                                NaN                                                                          \n",
       "\n",
       "   Percentage of teachers in primary education who received in-service training in the last 12 months by type of training,  \\\n",
       "0                                                NaN                                                                         \n",
       "1                                                NaN                                                                         \n",
       "2                                                NaN                                                                         \n",
       "3                                                NaN                                                                         \n",
       "4                                                NaN                                                                         \n",
       "\n",
       "   Teacher attrition rate from primary education,  \\\n",
       "0                                             NaN   \n",
       "1                                             NaN   \n",
       "2                                             NaN   \n",
       "3                                             NaN   \n",
       "4                                             NaN   \n",
       "\n",
       "   Existence of funding mechanisms to reallocate education resources to disadvantaged populations  \\\n",
       "0                                                NaN                                                \n",
       "1                                                NaN                                                \n",
       "2                                                NaN                                                \n",
       "3                                                NaN                                                \n",
       "4                                                NaN                                                \n",
       "\n",
       "   Expenditure on education as a percentage of total government expenditure (%)  \\\n",
       "0                                              19.25                              \n",
       "1                                              19.25                              \n",
       "2                                              17.96                              \n",
       "3                                              17.96                              \n",
       "4                                              17.32                              \n",
       "\n",
       "   Government expenditure on education as a percentage of GDP (%)  \\\n",
       "0                                               3.90                \n",
       "1                                               3.90                \n",
       "2                                               3.44                \n",
       "3                                               3.44                \n",
       "4                                               3.42                \n",
       "\n",
       "   Proportion of teachers with the minimum required qualifications in primary education, adjusted gender parity index (GPIA)  \n",
       "0                                                NaN                                                                          \n",
       "1                                                NaN                                                                          \n",
       "2                                                NaN                                                                          \n",
       "3                                                NaN                                                                          \n",
       "4                                                1.0                                                                          "
      ]
     },
     "execution_count": 25,
     "metadata": {},
     "output_type": "execute_result"
    }
   ],
   "source": [
    "df.head()"
   ]
  },
  {
   "cell_type": "code",
   "execution_count": 26,
   "id": "12a631f1",
   "metadata": {},
   "outputs": [
    {
     "data": {
      "text/plain": [
       "Unnamed: 0                                                                                                                      0\n",
       "Region                                                                                                                          0\n",
       "Country                                                                                                                         0\n",
       "Year                                                                                                                            0\n",
       "Gender                                                                                                                          0\n",
       "Completion rate, primary education,                                                                                           655\n",
       "Gross enrolment ratio, early childhood education,                                                                             889\n",
       "Gross enrolment ratio, early childhood educational development programmes,                                                    347\n",
       "Gross intake ratio to the last grade of primary education,                                                                    874\n",
       "Literacy rate, population 25-64 years,                                                                                       1757\n",
       "Percentage of children under 5 years experiencing positive and stimulating home learning environments,                       2243\n",
       "Percentage of students at the end of primary education who have their first or home language as language of instruction,     2281\n",
       "Percentage of teachers in primary education who received in-service training in the last 12 months by type of training,      2259\n",
       "Teacher attrition rate from primary education,                                                                               2104\n",
       "Existence of funding mechanisms to reallocate education resources to disadvantaged populations                               2229\n",
       "Expenditure on education as a percentage of total government expenditure (%)                                                  594\n",
       "Government expenditure on education as a percentage of GDP (%)                                                                552\n",
       "Proportion of teachers with the minimum required qualifications in primary education, adjusted gender parity index (GPIA)    1452\n",
       "dtype: int64"
      ]
     },
     "execution_count": 26,
     "metadata": {},
     "output_type": "execute_result"
    }
   ],
   "source": [
    "df.isnull().sum()"
   ]
  },
  {
   "cell_type": "code",
   "execution_count": 27,
   "id": "d2b62442",
   "metadata": {},
   "outputs": [],
   "source": [
    "df2 = df[~df.Year.isin([2022])]\n",
    "#Excluding the year '2022' from the dataset"
   ]
  },
  {
   "cell_type": "markdown",
   "id": "2fbc84cb",
   "metadata": {},
   "source": [
    "# Percentage of Missing Data"
   ]
  },
  {
   "cell_type": "code",
   "execution_count": 28,
   "id": "00b7d19e",
   "metadata": {},
   "outputs": [
    {
     "data": {
      "text/plain": [
       "Unnamed: 0                                                                                                                    0.00\n",
       "Region                                                                                                                        0.00\n",
       "Country                                                                                                                       0.00\n",
       "Year                                                                                                                          0.00\n",
       "Gender                                                                                                                        0.00\n",
       "Completion rate, primary education,                                                                                          24.37\n",
       "Gross enrolment ratio, early childhood education,                                                                            35.59\n",
       "Gross enrolment ratio, early childhood educational development programmes,                                                   15.46\n",
       "Gross intake ratio to the last grade of primary education,                                                                   34.74\n",
       "Literacy rate, population 25-64 years,                                                                                       73.45\n",
       "Percentage of children under 5 years experiencing positive and stimulating home learning environments,                       95.10\n",
       "Percentage of students at the end of primary education who have their first or home language as language of instruction,     96.79\n",
       "Percentage of teachers in primary education who received in-service training in the last 12 months by type of training,      95.81\n",
       "Teacher attrition rate from primary education,                                                                               89.09\n",
       "Existence of funding mechanisms to reallocate education resources to disadvantaged populations                               94.48\n",
       "Expenditure on education as a percentage of total government expenditure (%)                                                 24.14\n",
       "Government expenditure on education as a percentage of GDP (%)                                                               20.31\n",
       "Proportion of teachers with the minimum required qualifications in primary education, adjusted gender parity index (GPIA)    60.13\n",
       "dtype: float64"
      ]
     },
     "execution_count": 28,
     "metadata": {},
     "output_type": "execute_result"
    }
   ],
   "source": [
    "round((df2.isnull().sum()/len(df2) *100), 2)"
   ]
  },
  {
   "cell_type": "markdown",
   "id": "2569e30a",
   "metadata": {},
   "source": [
    "It's observed that about 17% of the dataset didnt have value for the target variable(Completion rate, lower secondary education,).Let's see the names of those countries that didn't have velues for the target variable\n"
   ]
  },
  {
   "cell_type": "code",
   "execution_count": 29,
   "id": "02e116d2",
   "metadata": {},
   "outputs": [
    {
     "name": "stdout",
     "output_type": "stream",
     "text": [
      "About 94 countries didnt have the target variable\n",
      "The name of those countries are : ['Tajikistan' 'Uzbekistan' 'Afghanistan' 'Bangladesh' 'Bhutan' 'India'\n",
      " 'Maldives' 'Nepal' 'Pakistan' 'Sri Lanka' 'Cambodia' 'China' 'Malaysia'\n",
      " 'Mongolia' 'Philippines' 'Thailand' 'Timor-Leste' 'Albania' 'Belarus'\n",
      " 'Bosnia and Herzegovina' 'Montenegro' 'Serbia' 'Ukraine'\n",
      " 'Antigua and Barbuda' 'Argentina' 'Belize' 'Chile' 'Cuba' 'Dominica'\n",
      " 'Ecuador' 'El Salvador' 'Grenada' 'Guatemala' 'Guyana' 'Honduras'\n",
      " 'Jamaica' 'Nicaragua' 'Panama' 'Suriname' 'Algeria' 'Armenia'\n",
      " 'Azerbaijan' 'Georgia' 'Jordan' 'Lebanon' 'Libya' 'Morocco'\n",
      " 'Syrian Arab Republic' 'Tunisia' 'Fiji' 'Kiribati' 'Marshall Islands'\n",
      " 'Palau' 'Samoa' 'Solomon Islands' 'Tonga' 'Tuvalu' 'Vanuatu' 'Angola'\n",
      " 'Benin' 'Botswana' 'Burkina Faso' 'Burundi' 'Cameroon'\n",
      " 'Central African Republic' 'Chad' 'Comoros' 'Djibouti' 'Eritrea'\n",
      " 'Ethiopia' 'Gabon' 'Gambia' 'Ghana' 'Guinea' 'Kenya' 'Lesotho' 'Liberia'\n",
      " 'Madagascar' 'Malawi' 'Mali' 'Mauritania' 'Mauritius' 'Mozambique'\n",
      " 'Namibia' 'Niger' 'Rwanda' 'Senegal' 'Seychelles' 'Sierra Leone'\n",
      " 'Somalia' 'Togo' 'Uganda' 'Zambia' 'Zimbabwe']\n"
     ]
    }
   ],
   "source": [
    "null_mask= df['Completion rate, primary education,'].isnull()\n",
    "null_rows= df.loc[null_mask]\n",
    "null_countries= null_rows.Country\n",
    "print(\"About\",null_countries.nunique(), \"countries didnt have the target variable\")\n",
    "print(\"The name of those countries are :\", null_countries.unique())"
   ]
  },
  {
   "cell_type": "code",
   "execution_count": 30,
   "id": "8bde8e5a",
   "metadata": {},
   "outputs": [
    {
     "data": {
      "text/html": [
       "<div>\n",
       "<style scoped>\n",
       "    .dataframe tbody tr th:only-of-type {\n",
       "        vertical-align: middle;\n",
       "    }\n",
       "\n",
       "    .dataframe tbody tr th {\n",
       "        vertical-align: top;\n",
       "    }\n",
       "\n",
       "    .dataframe thead th {\n",
       "        text-align: right;\n",
       "    }\n",
       "</style>\n",
       "<table border=\"1\" class=\"dataframe\">\n",
       "  <thead>\n",
       "    <tr style=\"text-align: right;\">\n",
       "      <th></th>\n",
       "      <th>Unnamed: 0</th>\n",
       "      <th>Region</th>\n",
       "      <th>Country</th>\n",
       "      <th>Year</th>\n",
       "      <th>Gender</th>\n",
       "      <th>Completion rate, primary education,</th>\n",
       "      <th>Gross enrolment ratio, early childhood education,</th>\n",
       "      <th>Gross enrolment ratio, early childhood educational development programmes,</th>\n",
       "      <th>Gross intake ratio to the last grade of primary education,</th>\n",
       "      <th>Literacy rate, population 25-64 years,</th>\n",
       "      <th>Percentage of children under 5 years experiencing positive and stimulating home learning environments,</th>\n",
       "      <th>Percentage of students at the end of primary education who have their first or home language as language of instruction,</th>\n",
       "      <th>Percentage of teachers in primary education who received in-service training in the last 12 months by type of training,</th>\n",
       "      <th>Teacher attrition rate from primary education,</th>\n",
       "      <th>Existence of funding mechanisms to reallocate education resources to disadvantaged populations</th>\n",
       "      <th>Expenditure on education as a percentage of total government expenditure (%)</th>\n",
       "      <th>Government expenditure on education as a percentage of GDP (%)</th>\n",
       "      <th>Proportion of teachers with the minimum required qualifications in primary education, adjusted gender parity index (GPIA)</th>\n",
       "    </tr>\n",
       "  </thead>\n",
       "  <tbody>\n",
       "    <tr>\n",
       "      <th>36</th>\n",
       "      <td>154</td>\n",
       "      <td>SDG: Central and Southern Asia</td>\n",
       "      <td>Tajikistan</td>\n",
       "      <td>2021</td>\n",
       "      <td>female</td>\n",
       "      <td>NaN</td>\n",
       "      <td>NaN</td>\n",
       "      <td>0.0</td>\n",
       "      <td>NaN</td>\n",
       "      <td>NaN</td>\n",
       "      <td>NaN</td>\n",
       "      <td>NaN</td>\n",
       "      <td>NaN</td>\n",
       "      <td>NaN</td>\n",
       "      <td>NaN</td>\n",
       "      <td>19.91</td>\n",
       "      <td>5.66</td>\n",
       "      <td>NaN</td>\n",
       "    </tr>\n",
       "    <tr>\n",
       "      <th>37</th>\n",
       "      <td>155</td>\n",
       "      <td>SDG: Central and Southern Asia</td>\n",
       "      <td>Tajikistan</td>\n",
       "      <td>2021</td>\n",
       "      <td>male</td>\n",
       "      <td>NaN</td>\n",
       "      <td>NaN</td>\n",
       "      <td>0.0</td>\n",
       "      <td>NaN</td>\n",
       "      <td>NaN</td>\n",
       "      <td>NaN</td>\n",
       "      <td>NaN</td>\n",
       "      <td>NaN</td>\n",
       "      <td>NaN</td>\n",
       "      <td>NaN</td>\n",
       "      <td>19.91</td>\n",
       "      <td>5.66</td>\n",
       "      <td>NaN</td>\n",
       "    </tr>\n",
       "    <tr>\n",
       "      <th>38</th>\n",
       "      <td>156</td>\n",
       "      <td>SDG: Central and Southern Asia</td>\n",
       "      <td>Tajikistan</td>\n",
       "      <td>2022</td>\n",
       "      <td>female</td>\n",
       "      <td>NaN</td>\n",
       "      <td>NaN</td>\n",
       "      <td>0.0</td>\n",
       "      <td>NaN</td>\n",
       "      <td>NaN</td>\n",
       "      <td>NaN</td>\n",
       "      <td>NaN</td>\n",
       "      <td>NaN</td>\n",
       "      <td>NaN</td>\n",
       "      <td>NaN</td>\n",
       "      <td>18.75</td>\n",
       "      <td>NaN</td>\n",
       "      <td>NaN</td>\n",
       "    </tr>\n",
       "    <tr>\n",
       "      <th>39</th>\n",
       "      <td>157</td>\n",
       "      <td>SDG: Central and Southern Asia</td>\n",
       "      <td>Tajikistan</td>\n",
       "      <td>2022</td>\n",
       "      <td>male</td>\n",
       "      <td>NaN</td>\n",
       "      <td>NaN</td>\n",
       "      <td>0.0</td>\n",
       "      <td>NaN</td>\n",
       "      <td>NaN</td>\n",
       "      <td>NaN</td>\n",
       "      <td>NaN</td>\n",
       "      <td>NaN</td>\n",
       "      <td>NaN</td>\n",
       "      <td>NaN</td>\n",
       "      <td>18.75</td>\n",
       "      <td>NaN</td>\n",
       "      <td>NaN</td>\n",
       "    </tr>\n",
       "    <tr>\n",
       "      <th>58</th>\n",
       "      <td>176</td>\n",
       "      <td>SDG: Central and Southern Asia</td>\n",
       "      <td>Uzbekistan</td>\n",
       "      <td>2012</td>\n",
       "      <td>female</td>\n",
       "      <td>NaN</td>\n",
       "      <td>24.43</td>\n",
       "      <td>0.0</td>\n",
       "      <td>92.44</td>\n",
       "      <td>NaN</td>\n",
       "      <td>NaN</td>\n",
       "      <td>NaN</td>\n",
       "      <td>NaN</td>\n",
       "      <td>NaN</td>\n",
       "      <td>NaN</td>\n",
       "      <td>25.83</td>\n",
       "      <td>6.03</td>\n",
       "      <td>NaN</td>\n",
       "    </tr>\n",
       "  </tbody>\n",
       "</table>\n",
       "</div>"
      ],
      "text/plain": [
       "    Unnamed: 0                          Region     Country  Year  Gender  \\\n",
       "36         154  SDG: Central and Southern Asia  Tajikistan  2021  female   \n",
       "37         155  SDG: Central and Southern Asia  Tajikistan  2021    male   \n",
       "38         156  SDG: Central and Southern Asia  Tajikistan  2022  female   \n",
       "39         157  SDG: Central and Southern Asia  Tajikistan  2022    male   \n",
       "58         176  SDG: Central and Southern Asia  Uzbekistan  2012  female   \n",
       "\n",
       "    Completion rate, primary education,  \\\n",
       "36                                  NaN   \n",
       "37                                  NaN   \n",
       "38                                  NaN   \n",
       "39                                  NaN   \n",
       "58                                  NaN   \n",
       "\n",
       "    Gross enrolment ratio, early childhood education,  \\\n",
       "36                                                NaN   \n",
       "37                                                NaN   \n",
       "38                                                NaN   \n",
       "39                                                NaN   \n",
       "58                                              24.43   \n",
       "\n",
       "    Gross enrolment ratio, early childhood educational development programmes,  \\\n",
       "36                                                0.0                            \n",
       "37                                                0.0                            \n",
       "38                                                0.0                            \n",
       "39                                                0.0                            \n",
       "58                                                0.0                            \n",
       "\n",
       "    Gross intake ratio to the last grade of primary education,  \\\n",
       "36                                                NaN            \n",
       "37                                                NaN            \n",
       "38                                                NaN            \n",
       "39                                                NaN            \n",
       "58                                              92.44            \n",
       "\n",
       "    Literacy rate, population 25-64 years,  \\\n",
       "36                                     NaN   \n",
       "37                                     NaN   \n",
       "38                                     NaN   \n",
       "39                                     NaN   \n",
       "58                                     NaN   \n",
       "\n",
       "    Percentage of children under 5 years experiencing positive and stimulating home learning environments,  \\\n",
       "36                                                NaN                                                        \n",
       "37                                                NaN                                                        \n",
       "38                                                NaN                                                        \n",
       "39                                                NaN                                                        \n",
       "58                                                NaN                                                        \n",
       "\n",
       "    Percentage of students at the end of primary education who have their first or home language as language of instruction,  \\\n",
       "36                                                NaN                                                                          \n",
       "37                                                NaN                                                                          \n",
       "38                                                NaN                                                                          \n",
       "39                                                NaN                                                                          \n",
       "58                                                NaN                                                                          \n",
       "\n",
       "    Percentage of teachers in primary education who received in-service training in the last 12 months by type of training,  \\\n",
       "36                                                NaN                                                                         \n",
       "37                                                NaN                                                                         \n",
       "38                                                NaN                                                                         \n",
       "39                                                NaN                                                                         \n",
       "58                                                NaN                                                                         \n",
       "\n",
       "    Teacher attrition rate from primary education,  \\\n",
       "36                                             NaN   \n",
       "37                                             NaN   \n",
       "38                                             NaN   \n",
       "39                                             NaN   \n",
       "58                                             NaN   \n",
       "\n",
       "    Existence of funding mechanisms to reallocate education resources to disadvantaged populations  \\\n",
       "36                                                NaN                                                \n",
       "37                                                NaN                                                \n",
       "38                                                NaN                                                \n",
       "39                                                NaN                                                \n",
       "58                                                NaN                                                \n",
       "\n",
       "    Expenditure on education as a percentage of total government expenditure (%)  \\\n",
       "36                                              19.91                              \n",
       "37                                              19.91                              \n",
       "38                                              18.75                              \n",
       "39                                              18.75                              \n",
       "58                                              25.83                              \n",
       "\n",
       "    Government expenditure on education as a percentage of GDP (%)  \\\n",
       "36                                               5.66                \n",
       "37                                               5.66                \n",
       "38                                                NaN                \n",
       "39                                                NaN                \n",
       "58                                               6.03                \n",
       "\n",
       "    Proportion of teachers with the minimum required qualifications in primary education, adjusted gender parity index (GPIA)  \n",
       "36                                                NaN                                                                          \n",
       "37                                                NaN                                                                          \n",
       "38                                                NaN                                                                          \n",
       "39                                                NaN                                                                          \n",
       "58                                                NaN                                                                          "
      ]
     },
     "execution_count": 30,
     "metadata": {},
     "output_type": "execute_result"
    }
   ],
   "source": [
    "\n",
    "#Masking countries with out target variabe\n",
    "df_nu=df[null_mask]\n",
    "df_nu.head()"
   ]
  },
  {
   "cell_type": "code",
   "execution_count": 31,
   "id": "83d54663",
   "metadata": {},
   "outputs": [],
   "source": [
    "mask= df2['Completion rate, primary education,'].notna()\n",
    "#carving out those coutries that didn't have values for the target variable"
   ]
  },
  {
   "cell_type": "code",
   "execution_count": 32,
   "id": "1cab374c",
   "metadata": {},
   "outputs": [],
   "source": [
    "df3= df2[mask]"
   ]
  },
  {
   "cell_type": "code",
   "execution_count": 33,
   "id": "d44ea056",
   "metadata": {},
   "outputs": [
    {
     "data": {
      "text/plain": [
       "Unnamed: 0                                                                                                                    0.00\n",
       "Region                                                                                                                        0.00\n",
       "Country                                                                                                                       0.00\n",
       "Year                                                                                                                          0.00\n",
       "Gender                                                                                                                        0.00\n",
       "Completion rate, primary education,                                                                                           0.00\n",
       "Gross enrolment ratio, early childhood education,                                                                            35.34\n",
       "Gross enrolment ratio, early childhood educational development programmes,                                                   17.20\n",
       "Gross intake ratio to the last grade of primary education,                                                                   34.28\n",
       "Literacy rate, population 25-64 years,                                                                                       73.62\n",
       "Percentage of children under 5 years experiencing positive and stimulating home learning environments,                       93.99\n",
       "Percentage of students at the end of primary education who have their first or home language as language of instruction,     96.23\n",
       "Percentage of teachers in primary education who received in-service training in the last 12 months by type of training,      95.29\n",
       "Teacher attrition rate from primary education,                                                                               91.87\n",
       "Existence of funding mechanisms to reallocate education resources to disadvantaged populations                               93.88\n",
       "Expenditure on education as a percentage of total government expenditure (%)                                                 20.38\n",
       "Government expenditure on education as a percentage of GDP (%)                                                               16.14\n",
       "Proportion of teachers with the minimum required qualifications in primary education, adjusted gender parity index (GPIA)    62.07\n",
       "dtype: float64"
      ]
     },
     "execution_count": 33,
     "metadata": {},
     "output_type": "execute_result"
    }
   ],
   "source": [
    "round((df3.isnull().sum()/len(df3) *100), 2)"
   ]
  },
  {
   "cell_type": "markdown",
   "id": "0e4f3c8a",
   "metadata": {},
   "source": [
    "Now, all the dataset has values for the target variables, however they are still some missing values\n"
   ]
  },
  {
   "cell_type": "code",
   "execution_count": 34,
   "id": "d617a96d",
   "metadata": {},
   "outputs": [
    {
     "data": {
      "text/plain": [
       "<Axes: >"
      ]
     },
     "execution_count": 34,
     "metadata": {},
     "output_type": "execute_result"
    },
    {
     "data": {
      "image/png": "[encoded data removed]",
      "text/plain": [
       "<Figure size 640x480 with 1 Axes>"
      ]
     },
     "metadata": {},
     "output_type": "display_data"
    }
   ],
   "source": [
    "round((df3.isnull().sum()/len(df3) *100), 2).plot(kind='bar')"
   ]
  },
  {
   "cell_type": "code",
   "execution_count": 35,
   "id": "6251717c",
   "metadata": {},
   "outputs": [
    {
     "data": {
      "text/plain": [
       "Index(['Unnamed: 0', 'Region', 'Country', 'Year', 'Gender',\n",
       "       'Completion rate, primary education,',\n",
       "       'Gross enrolment ratio, early childhood education,',\n",
       "       'Gross enrolment ratio, early childhood educational development programmes,',\n",
       "       'Gross intake ratio to the last grade of primary education,',\n",
       "       'Literacy rate, population 25-64 years,',\n",
       "       'Percentage of children under 5 years experiencing positive and stimulating home learning environments,',\n",
       "       'Percentage of students at the end of primary education who have their first or home language as language of instruction,',\n",
       "       'Percentage of teachers in primary education who received in-service training in the last 12 months by type of training,',\n",
       "       'Teacher attrition rate from primary education,',\n",
       "       'Existence of funding mechanisms to reallocate education resources to disadvantaged populations',\n",
       "       'Expenditure on education as a percentage of total government expenditure (%)',\n",
       "       'Government expenditure on education as a percentage of GDP (%)',\n",
       "       'Proportion of teachers with the minimum required qualifications in primary education, adjusted gender parity index (GPIA)'],\n",
       "      dtype='object')"
      ]
     },
     "execution_count": 35,
     "metadata": {},
     "output_type": "execute_result"
    }
   ],
   "source": [
    "df3.columns"
   ]
  },
  {
   "cell_type": "markdown",
   "id": "41841212",
   "metadata": {},
   "source": [
    "Droping columns that has more than 90% missing values"
   ]
  },
  {
   "cell_type": "code",
   "execution_count": 36,
   "id": "14d92282",
   "metadata": {},
   "outputs": [],
   "source": [
    "df4= df3.drop(columns=[\n",
    "       'Percentage of children under 5 years experiencing positive and stimulating home learning environments,',\n",
    "       'Percentage of students at the end of primary education who have their first or home language as language of instruction,',\n",
    "       'Percentage of teachers in primary education who received in-service training in the last 12 months by type of training,',\n",
    "        'Teacher attrition rate from primary education,',\n",
    "       'Existence of funding mechanisms to reallocate education resources to disadvantaged populations',\n",
    "        'Proportion of teachers with the minimum required qualifications in primary education, adjusted gender parity index (GPIA)'])"
   ]
  },
  {
   "cell_type": "code",
   "execution_count": null,
   "id": "83698093",
   "metadata": {},
   "outputs": [],
   "source": []
  },
  {
   "cell_type": "code",
   "execution_count": 37,
   "id": "9118ba71",
   "metadata": {},
   "outputs": [
    {
     "name": "stdout",
     "output_type": "stream",
     "text": [
      "The shape of is : (1698, 12)\n"
     ]
    },
    {
     "data": {
      "text/plain": [
       "Unnamed: 0                                                                       0.00\n",
       "Region                                                                           0.00\n",
       "Country                                                                          0.00\n",
       "Year                                                                             0.00\n",
       "Gender                                                                           0.00\n",
       "Completion rate, primary education,                                              0.00\n",
       "Gross enrolment ratio, early childhood education,                               35.34\n",
       "Gross enrolment ratio, early childhood educational development programmes,      17.20\n",
       "Gross intake ratio to the last grade of primary education,                      34.28\n",
       "Literacy rate, population 25-64 years,                                          73.62\n",
       "Expenditure on education as a percentage of total government expenditure (%)    20.38\n",
       "Government expenditure on education as a percentage of GDP (%)                  16.14\n",
       "dtype: float64"
      ]
     },
     "execution_count": 37,
     "metadata": {},
     "output_type": "execute_result"
    }
   ],
   "source": [
    "print('The shape of is :', df4.shape)\n",
    "round((df4.isnull().sum()/len(df3) *100), 2)"
   ]
  },
  {
   "cell_type": "code",
   "execution_count": 38,
   "id": "cc50c58d",
   "metadata": {},
   "outputs": [
    {
     "data": {
      "text/plain": [
       "<Axes: >"
      ]
     },
     "execution_count": 38,
     "metadata": {},
     "output_type": "execute_result"
    },
    {
     "data": {
      "image/png": "[encoded data removed]",
      "text/plain": [
       "<Figure size 640x480 with 1 Axes>"
      ]
     },
     "metadata": {},
     "output_type": "display_data"
    }
   ],
   "source": [
    "round((df4.isnull().sum()/len(df3) *100), 2).plot(kind=\"bar\")"
   ]
  },
  {
   "cell_type": "markdown",
   "id": "ceaff39e",
   "metadata": {},
   "source": [
    "# Analysing \"Literacy rate, population 25-64 years futher"
   ]
  },
  {
   "cell_type": "code",
   "execution_count": 39,
   "id": "4933584e",
   "metadata": {},
   "outputs": [
    {
     "data": {
      "text/html": [
       "<div>\n",
       "<style scoped>\n",
       "    .dataframe tbody tr th:only-of-type {\n",
       "        vertical-align: middle;\n",
       "    }\n",
       "\n",
       "    .dataframe tbody tr th {\n",
       "        vertical-align: top;\n",
       "    }\n",
       "\n",
       "    .dataframe thead th {\n",
       "        text-align: right;\n",
       "    }\n",
       "</style>\n",
       "<table border=\"1\" class=\"dataframe\">\n",
       "  <thead>\n",
       "    <tr style=\"text-align: right;\">\n",
       "      <th></th>\n",
       "      <th>Unnamed: 0</th>\n",
       "      <th>Region</th>\n",
       "      <th>Country</th>\n",
       "      <th>Year</th>\n",
       "      <th>Gender</th>\n",
       "      <th>Completion rate, primary education,</th>\n",
       "      <th>Gross enrolment ratio, early childhood education,</th>\n",
       "      <th>Gross enrolment ratio, early childhood educational development programmes,</th>\n",
       "      <th>Gross intake ratio to the last grade of primary education,</th>\n",
       "      <th>Literacy rate, population 25-64 years,</th>\n",
       "      <th>Expenditure on education as a percentage of total government expenditure (%)</th>\n",
       "      <th>Government expenditure on education as a percentage of GDP (%)</th>\n",
       "    </tr>\n",
       "  </thead>\n",
       "  <tbody>\n",
       "    <tr>\n",
       "      <th>16</th>\n",
       "      <td>114</td>\n",
       "      <td>SDG: Central and Southern Asia</td>\n",
       "      <td>Kazakhstan</td>\n",
       "      <td>2020</td>\n",
       "      <td>female</td>\n",
       "      <td>99.90</td>\n",
       "      <td>55.76</td>\n",
       "      <td>28.22</td>\n",
       "      <td>101.44</td>\n",
       "      <td>99.80</td>\n",
       "      <td>20.16</td>\n",
       "      <td>4.45</td>\n",
       "    </tr>\n",
       "    <tr>\n",
       "      <th>17</th>\n",
       "      <td>115</td>\n",
       "      <td>SDG: Central and Southern Asia</td>\n",
       "      <td>Kazakhstan</td>\n",
       "      <td>2020</td>\n",
       "      <td>male</td>\n",
       "      <td>99.80</td>\n",
       "      <td>56.28</td>\n",
       "      <td>27.99</td>\n",
       "      <td>102.53</td>\n",
       "      <td>99.90</td>\n",
       "      <td>20.16</td>\n",
       "      <td>4.45</td>\n",
       "    </tr>\n",
       "    <tr>\n",
       "      <th>76</th>\n",
       "      <td>194</td>\n",
       "      <td>SDG: Central and Southern Asia</td>\n",
       "      <td>Uzbekistan</td>\n",
       "      <td>2021</td>\n",
       "      <td>female</td>\n",
       "      <td>99.70</td>\n",
       "      <td>43.36</td>\n",
       "      <td>0.00</td>\n",
       "      <td>100.81</td>\n",
       "      <td>100.00</td>\n",
       "      <td>21.43</td>\n",
       "      <td>4.62</td>\n",
       "    </tr>\n",
       "    <tr>\n",
       "      <th>77</th>\n",
       "      <td>195</td>\n",
       "      <td>SDG: Central and Southern Asia</td>\n",
       "      <td>Uzbekistan</td>\n",
       "      <td>2021</td>\n",
       "      <td>male</td>\n",
       "      <td>99.71</td>\n",
       "      <td>44.63</td>\n",
       "      <td>0.00</td>\n",
       "      <td>102.07</td>\n",
       "      <td>100.00</td>\n",
       "      <td>21.43</td>\n",
       "      <td>4.62</td>\n",
       "    </tr>\n",
       "    <tr>\n",
       "      <th>98</th>\n",
       "      <td>216</td>\n",
       "      <td>SDG: Central and Southern Asia</td>\n",
       "      <td>Bangladesh</td>\n",
       "      <td>2012</td>\n",
       "      <td>female</td>\n",
       "      <td>80.40</td>\n",
       "      <td>NaN</td>\n",
       "      <td>0.00</td>\n",
       "      <td>NaN</td>\n",
       "      <td>47.22</td>\n",
       "      <td>12.28</td>\n",
       "      <td>2.05</td>\n",
       "    </tr>\n",
       "  </tbody>\n",
       "</table>\n",
       "</div>"
      ],
      "text/plain": [
       "    Unnamed: 0                          Region     Country  Year  Gender  \\\n",
       "16         114  SDG: Central and Southern Asia  Kazakhstan  2020  female   \n",
       "17         115  SDG: Central and Southern Asia  Kazakhstan  2020    male   \n",
       "76         194  SDG: Central and Southern Asia  Uzbekistan  2021  female   \n",
       "77         195  SDG: Central and Southern Asia  Uzbekistan  2021    male   \n",
       "98         216  SDG: Central and Southern Asia  Bangladesh  2012  female   \n",
       "\n",
       "    Completion rate, primary education,  \\\n",
       "16                                99.90   \n",
       "17                                99.80   \n",
       "76                                99.70   \n",
       "77                                99.71   \n",
       "98                                80.40   \n",
       "\n",
       "    Gross enrolment ratio, early childhood education,  \\\n",
       "16                                              55.76   \n",
       "17                                              56.28   \n",
       "76                                              43.36   \n",
       "77                                              44.63   \n",
       "98                                                NaN   \n",
       "\n",
       "    Gross enrolment ratio, early childhood educational development programmes,  \\\n",
       "16                                              28.22                            \n",
       "17                                              27.99                            \n",
       "76                                               0.00                            \n",
       "77                                               0.00                            \n",
       "98                                               0.00                            \n",
       "\n",
       "    Gross intake ratio to the last grade of primary education,  \\\n",
       "16                                             101.44            \n",
       "17                                             102.53            \n",
       "76                                             100.81            \n",
       "77                                             102.07            \n",
       "98                                                NaN            \n",
       "\n",
       "    Literacy rate, population 25-64 years,  \\\n",
       "16                                   99.80   \n",
       "17                                   99.90   \n",
       "76                                  100.00   \n",
       "77                                  100.00   \n",
       "98                                   47.22   \n",
       "\n",
       "    Expenditure on education as a percentage of total government expenditure (%)  \\\n",
       "16                                              20.16                              \n",
       "17                                              20.16                              \n",
       "76                                              21.43                              \n",
       "77                                              21.43                              \n",
       "98                                              12.28                              \n",
       "\n",
       "    Government expenditure on education as a percentage of GDP (%)  \n",
       "16                                               4.45               \n",
       "17                                               4.45               \n",
       "76                                               4.62               \n",
       "77                                               4.62               \n",
       "98                                               2.05               "
      ]
     },
     "execution_count": 39,
     "metadata": {},
     "output_type": "execute_result"
    }
   ],
   "source": [
    "mask_literacy= df4[\"Literacy rate, population 25-64 years,\"].notna()\n",
    "df5= df4[mask_literacy]\n",
    "df5.head()"
   ]
  },
  {
   "cell_type": "code",
   "execution_count": 40,
   "id": "37c5e73c",
   "metadata": {},
   "outputs": [],
   "source": [
    "#df5.corr()"
   ]
  },
  {
   "cell_type": "code",
   "execution_count": 41,
   "id": "cc929692",
   "metadata": {},
   "outputs": [
    {
     "data": {
      "text/html": [
       "<div>\n",
       "<style scoped>\n",
       "    .dataframe tbody tr th:only-of-type {\n",
       "        vertical-align: middle;\n",
       "    }\n",
       "\n",
       "    .dataframe tbody tr th {\n",
       "        vertical-align: top;\n",
       "    }\n",
       "\n",
       "    .dataframe thead th {\n",
       "        text-align: right;\n",
       "    }\n",
       "</style>\n",
       "<table border=\"1\" class=\"dataframe\">\n",
       "  <thead>\n",
       "    <tr style=\"text-align: right;\">\n",
       "      <th></th>\n",
       "      <th>Unnamed: 0</th>\n",
       "      <th>Region</th>\n",
       "      <th>Country</th>\n",
       "      <th>Year</th>\n",
       "      <th>Gender</th>\n",
       "      <th>Completion rate, primary education,</th>\n",
       "      <th>Gross enrolment ratio, early childhood education,</th>\n",
       "      <th>Gross enrolment ratio, early childhood educational development programmes,</th>\n",
       "      <th>Gross intake ratio to the last grade of primary education,</th>\n",
       "      <th>Literacy rate, population 25-64 years,</th>\n",
       "      <th>Expenditure on education as a percentage of total government expenditure (%)</th>\n",
       "      <th>Government expenditure on education as a percentage of GDP (%)</th>\n",
       "    </tr>\n",
       "  </thead>\n",
       "  <tbody>\n",
       "    <tr>\n",
       "      <th>0</th>\n",
       "      <td>98</td>\n",
       "      <td>SDG: Central and Southern Asia</td>\n",
       "      <td>Kazakhstan</td>\n",
       "      <td>2012</td>\n",
       "      <td>female</td>\n",
       "      <td>99.8</td>\n",
       "      <td>NaN</td>\n",
       "      <td>NaN</td>\n",
       "      <td>108.19</td>\n",
       "      <td>NaN</td>\n",
       "      <td>19.25</td>\n",
       "      <td>3.90</td>\n",
       "    </tr>\n",
       "    <tr>\n",
       "      <th>1</th>\n",
       "      <td>99</td>\n",
       "      <td>SDG: Central and Southern Asia</td>\n",
       "      <td>Kazakhstan</td>\n",
       "      <td>2012</td>\n",
       "      <td>male</td>\n",
       "      <td>99.7</td>\n",
       "      <td>NaN</td>\n",
       "      <td>NaN</td>\n",
       "      <td>106.88</td>\n",
       "      <td>NaN</td>\n",
       "      <td>19.25</td>\n",
       "      <td>3.90</td>\n",
       "    </tr>\n",
       "    <tr>\n",
       "      <th>2</th>\n",
       "      <td>100</td>\n",
       "      <td>SDG: Central and Southern Asia</td>\n",
       "      <td>Kazakhstan</td>\n",
       "      <td>2013</td>\n",
       "      <td>female</td>\n",
       "      <td>99.9</td>\n",
       "      <td>NaN</td>\n",
       "      <td>NaN</td>\n",
       "      <td>109.76</td>\n",
       "      <td>NaN</td>\n",
       "      <td>17.96</td>\n",
       "      <td>3.44</td>\n",
       "    </tr>\n",
       "    <tr>\n",
       "      <th>3</th>\n",
       "      <td>101</td>\n",
       "      <td>SDG: Central and Southern Asia</td>\n",
       "      <td>Kazakhstan</td>\n",
       "      <td>2013</td>\n",
       "      <td>male</td>\n",
       "      <td>99.8</td>\n",
       "      <td>NaN</td>\n",
       "      <td>NaN</td>\n",
       "      <td>108.90</td>\n",
       "      <td>NaN</td>\n",
       "      <td>17.96</td>\n",
       "      <td>3.44</td>\n",
       "    </tr>\n",
       "    <tr>\n",
       "      <th>4</th>\n",
       "      <td>102</td>\n",
       "      <td>SDG: Central and Southern Asia</td>\n",
       "      <td>Kazakhstan</td>\n",
       "      <td>2014</td>\n",
       "      <td>female</td>\n",
       "      <td>99.9</td>\n",
       "      <td>36.65</td>\n",
       "      <td>0.0</td>\n",
       "      <td>115.17</td>\n",
       "      <td>NaN</td>\n",
       "      <td>17.32</td>\n",
       "      <td>3.42</td>\n",
       "    </tr>\n",
       "  </tbody>\n",
       "</table>\n",
       "</div>"
      ],
      "text/plain": [
       "   Unnamed: 0                          Region     Country  Year  Gender  \\\n",
       "0          98  SDG: Central and Southern Asia  Kazakhstan  2012  female   \n",
       "1          99  SDG: Central and Southern Asia  Kazakhstan  2012    male   \n",
       "2         100  SDG: Central and Southern Asia  Kazakhstan  2013  female   \n",
       "3         101  SDG: Central and Southern Asia  Kazakhstan  2013    male   \n",
       "4         102  SDG: Central and Southern Asia  Kazakhstan  2014  female   \n",
       "\n",
       "   Completion rate, primary education,  \\\n",
       "0                                 99.8   \n",
       "1                                 99.7   \n",
       "2                                 99.9   \n",
       "3                                 99.8   \n",
       "4                                 99.9   \n",
       "\n",
       "   Gross enrolment ratio, early childhood education,  \\\n",
       "0                                                NaN   \n",
       "1                                                NaN   \n",
       "2                                                NaN   \n",
       "3                                                NaN   \n",
       "4                                              36.65   \n",
       "\n",
       "   Gross enrolment ratio, early childhood educational development programmes,  \\\n",
       "0                                                NaN                            \n",
       "1                                                NaN                            \n",
       "2                                                NaN                            \n",
       "3                                                NaN                            \n",
       "4                                                0.0                            \n",
       "\n",
       "   Gross intake ratio to the last grade of primary education,  \\\n",
       "0                                             108.19            \n",
       "1                                             106.88            \n",
       "2                                             109.76            \n",
       "3                                             108.90            \n",
       "4                                             115.17            \n",
       "\n",
       "   Literacy rate, population 25-64 years,  \\\n",
       "0                                     NaN   \n",
       "1                                     NaN   \n",
       "2                                     NaN   \n",
       "3                                     NaN   \n",
       "4                                     NaN   \n",
       "\n",
       "   Expenditure on education as a percentage of total government expenditure (%)  \\\n",
       "0                                              19.25                              \n",
       "1                                              19.25                              \n",
       "2                                              17.96                              \n",
       "3                                              17.96                              \n",
       "4                                              17.32                              \n",
       "\n",
       "   Government expenditure on education as a percentage of GDP (%)  \n",
       "0                                               3.90               \n",
       "1                                               3.90               \n",
       "2                                               3.44               \n",
       "3                                               3.44               \n",
       "4                                               3.42               "
      ]
     },
     "execution_count": 41,
     "metadata": {},
     "output_type": "execute_result"
    }
   ],
   "source": [
    "df4.head()"
   ]
  },
  {
   "cell_type": "code",
   "execution_count": 42,
   "id": "18dfcf50",
   "metadata": {},
   "outputs": [],
   "source": [
    "#df4[[\"Completion rate, primary education\", \" Literacy rate, population 25-64 years\"]]"
   ]
  },
  {
   "cell_type": "code",
   "execution_count": 43,
   "id": "4a088731",
   "metadata": {},
   "outputs": [
    {
     "data": {
      "text/plain": [
       "count    448.000000\n",
       "mean      82.345692\n",
       "std       21.243773\n",
       "min        8.640000\n",
       "25%       73.782500\n",
       "50%       91.900000\n",
       "75%       96.262500\n",
       "max      100.000000\n",
       "Name: Literacy rate, population 25-64 years,, dtype: float64"
      ]
     },
     "execution_count": 43,
     "metadata": {},
     "output_type": "execute_result"
    }
   ],
   "source": [
    "df4[\"Literacy rate, population 25-64 years,\"].describe()"
   ]
  },
  {
   "cell_type": "markdown",
   "id": "82df78dd",
   "metadata": {},
   "source": [
    "afr looking at the decsrition of the columns, i think it will be better we filled the missing values with the 25 percentile"
   ]
  },
  {
   "cell_type": "code",
   "execution_count": 44,
   "id": "92bc8ffb",
   "metadata": {},
   "outputs": [
    {
     "data": {
      "text/plain": [
       "count    1098.000000\n",
       "mean       46.379381\n",
       "std        28.429668\n",
       "min         0.720000\n",
       "25%        22.670000\n",
       "50%        42.880000\n",
       "75%        66.410000\n",
       "max       160.860000\n",
       "Name: Gross enrolment ratio, early childhood education,, dtype: float64"
      ]
     },
     "execution_count": 44,
     "metadata": {},
     "output_type": "execute_result"
    }
   ],
   "source": [
    "df4[\"Gross enrolment ratio, early childhood education,\"].describe()\n",
    "#Analyzing the Gross enrolment ratio, early childhood education, column"
   ]
  },
  {
   "cell_type": "code",
   "execution_count": 45,
   "id": "02ea6be1",
   "metadata": {},
   "outputs": [
    {
     "data": {
      "text/plain": [
       "count    1406.000000\n",
       "mean        6.361501\n",
       "std        15.605866\n",
       "min         0.000000\n",
       "25%         0.000000\n",
       "50%         0.000000\n",
       "75%         2.082500\n",
       "max        93.540000\n",
       "Name: Gross enrolment ratio, early childhood educational development programmes,, dtype: float64"
      ]
     },
     "execution_count": 45,
     "metadata": {},
     "output_type": "execute_result"
    }
   ],
   "source": [
    "df4[\"Gross enrolment ratio, early childhood educational development programmes,\"].describe()\n",
    "#Analyzing the \"Gross enrolment ratio, early childhood educational development programmes, column"
   ]
  },
  {
   "cell_type": "code",
   "execution_count": 46,
   "id": "bd378ebd",
   "metadata": {},
   "outputs": [],
   "source": [
    "df4[\"Literacy rate, population 25-64 years,\"] = df4[\"Literacy rate, population 25-64 years,\"].fillna(df4[\"Literacy rate, population 25-64 years,\"].quantile(0.25))\n",
    "df4[\"Gross enrolment ratio, early childhood education,\"] =df4[\"Gross enrolment ratio, early childhood education,\"].fillna(df4[\"Gross enrolment ratio, early childhood education,\"].mean())\n",
    "df4[\"Expenditure on education as a percentage of total government expenditure (%)\"] = df4[\"Expenditure on education as a percentage of total government expenditure (%)\"].fillna(df4[\"Expenditure on education as a percentage of total government expenditure (%)\"].mean())\n",
    "df4[\"Government expenditure on education as a percentage of GDP (%)\"] = df4[\"Government expenditure on education as a percentage of GDP (%)\"].fillna(df4[\"Government expenditure on education as a percentage of GDP (%)\"].mean())\n",
    "df4[\"Gross intake ratio to the last grade of primary education,\"] = df4[\"Gross intake ratio to the last grade of primary education,\"].fillna(df4[\"Gross intake ratio to the last grade of primary education,\"].mean())\n",
    "df4[\"Gross enrolment ratio, early childhood educational development programmes,\"] = df4[\"Gross enrolment ratio, early childhood educational development programmes,\"].fillna(df4[\"Gross enrolment ratio, early childhood educational development programmes,\"].mean())"
   ]
  },
  {
   "cell_type": "code",
   "execution_count": 47,
   "id": "466741ba",
   "metadata": {},
   "outputs": [
    {
     "name": "stdout",
     "output_type": "stream",
     "text": [
      "The shape of the dataset is : (1698, 12)\n"
     ]
    },
    {
     "data": {
      "text/plain": [
       "Unnamed: 0                                                                      0.0\n",
       "Region                                                                          0.0\n",
       "Country                                                                         0.0\n",
       "Year                                                                            0.0\n",
       "Gender                                                                          0.0\n",
       "Completion rate, primary education,                                             0.0\n",
       "Gross enrolment ratio, early childhood education,                               0.0\n",
       "Gross enrolment ratio, early childhood educational development programmes,      0.0\n",
       "Gross intake ratio to the last grade of primary education,                      0.0\n",
       "Literacy rate, population 25-64 years,                                          0.0\n",
       "Expenditure on education as a percentage of total government expenditure (%)    0.0\n",
       "Government expenditure on education as a percentage of GDP (%)                  0.0\n",
       "dtype: float64"
      ]
     },
     "execution_count": 47,
     "metadata": {},
     "output_type": "execute_result"
    }
   ],
   "source": [
    "print(\"The shape of the dataset is :\", df4.shape)\n",
    "round((df4.isnull().sum()/len(df3) *100), 2)"
   ]
  },
  {
   "cell_type": "markdown",
   "id": "afbcc6c3",
   "metadata": {},
   "source": [
    "**Renaming the columns**"
   ]
  },
  {
   "cell_type": "code",
   "execution_count": 48,
   "id": "8708a823",
   "metadata": {},
   "outputs": [],
   "source": [
    "new_column_names = {'Completion rate, primary education,': 'Completion Rate for Primary Edu',\n",
    "                    'Gross enrolment ratio, early childhood education,': 'Childhood Education GER',\n",
    "                    'Gross enrolment ratio, early childhood educational development programmes': 'Gross enrolment ratio, early childhood educational development programmes',\n",
    "                    'Gross intake ratio to the last grade of primary education': 'Last Grade Primary Edu GIR',\n",
    "                    'Literacy rate, population 25-64 years,': 'Literacy rate for 25-64 years old'\n",
    "                   }\n",
    "\n",
    "df4.rename(columns=new_column_names, inplace=True)"
   ]
  },
  {
   "cell_type": "code",
   "execution_count": 49,
   "id": "c70d14be",
   "metadata": {},
   "outputs": [
    {
     "data": {
      "text/plain": [
       "Index(['Unnamed: 0', 'Region', 'Country', 'Year', 'Gender',\n",
       "       'Completion Rate for Primary Edu', 'Childhood Education GER',\n",
       "       'Gross enrolment ratio, early childhood educational development programmes,',\n",
       "       'Gross intake ratio to the last grade of primary education,',\n",
       "       'Literacy rate for 25-64 years old',\n",
       "       'Expenditure on education as a percentage of total government expenditure (%)',\n",
       "       'Government expenditure on education as a percentage of GDP (%)'],\n",
       "      dtype='object')"
      ]
     },
     "execution_count": 49,
     "metadata": {},
     "output_type": "execute_result"
    }
   ],
   "source": [
    "\n",
    "df4.columns"
   ]
  },
  {
   "cell_type": "code",
   "execution_count": 50,
   "id": "5c6e49a8",
   "metadata": {},
   "outputs": [
    {
     "data": {
      "text/html": [
       "<div>\n",
       "<style scoped>\n",
       "    .dataframe tbody tr th:only-of-type {\n",
       "        vertical-align: middle;\n",
       "    }\n",
       "\n",
       "    .dataframe tbody tr th {\n",
       "        vertical-align: top;\n",
       "    }\n",
       "\n",
       "    .dataframe thead th {\n",
       "        text-align: right;\n",
       "    }\n",
       "</style>\n",
       "<table border=\"1\" class=\"dataframe\">\n",
       "  <thead>\n",
       "    <tr style=\"text-align: right;\">\n",
       "      <th></th>\n",
       "      <th>Unnamed: 0</th>\n",
       "      <th>Region</th>\n",
       "      <th>Country</th>\n",
       "      <th>Year</th>\n",
       "      <th>Gender</th>\n",
       "      <th>Completion Rate for Primary Edu</th>\n",
       "      <th>Childhood Education GER</th>\n",
       "      <th>Gross enrolment ratio, early childhood educational development programmes,</th>\n",
       "      <th>Gross intake ratio to the last grade of primary education,</th>\n",
       "      <th>Literacy rate for 25-64 years old</th>\n",
       "      <th>Expenditure on education as a percentage of total government expenditure (%)</th>\n",
       "      <th>Government expenditure on education as a percentage of GDP (%)</th>\n",
       "    </tr>\n",
       "  </thead>\n",
       "  <tbody>\n",
       "    <tr>\n",
       "      <th>0</th>\n",
       "      <td>98</td>\n",
       "      <td>SDG: Central and Southern Asia</td>\n",
       "      <td>Kazakhstan</td>\n",
       "      <td>2012</td>\n",
       "      <td>female</td>\n",
       "      <td>99.8</td>\n",
       "      <td>46.379381</td>\n",
       "      <td>6.361501</td>\n",
       "      <td>108.19</td>\n",
       "      <td>73.7825</td>\n",
       "      <td>19.25</td>\n",
       "      <td>3.90</td>\n",
       "    </tr>\n",
       "    <tr>\n",
       "      <th>1</th>\n",
       "      <td>99</td>\n",
       "      <td>SDG: Central and Southern Asia</td>\n",
       "      <td>Kazakhstan</td>\n",
       "      <td>2012</td>\n",
       "      <td>male</td>\n",
       "      <td>99.7</td>\n",
       "      <td>46.379381</td>\n",
       "      <td>6.361501</td>\n",
       "      <td>106.88</td>\n",
       "      <td>73.7825</td>\n",
       "      <td>19.25</td>\n",
       "      <td>3.90</td>\n",
       "    </tr>\n",
       "    <tr>\n",
       "      <th>2</th>\n",
       "      <td>100</td>\n",
       "      <td>SDG: Central and Southern Asia</td>\n",
       "      <td>Kazakhstan</td>\n",
       "      <td>2013</td>\n",
       "      <td>female</td>\n",
       "      <td>99.9</td>\n",
       "      <td>46.379381</td>\n",
       "      <td>6.361501</td>\n",
       "      <td>109.76</td>\n",
       "      <td>73.7825</td>\n",
       "      <td>17.96</td>\n",
       "      <td>3.44</td>\n",
       "    </tr>\n",
       "    <tr>\n",
       "      <th>3</th>\n",
       "      <td>101</td>\n",
       "      <td>SDG: Central and Southern Asia</td>\n",
       "      <td>Kazakhstan</td>\n",
       "      <td>2013</td>\n",
       "      <td>male</td>\n",
       "      <td>99.8</td>\n",
       "      <td>46.379381</td>\n",
       "      <td>6.361501</td>\n",
       "      <td>108.90</td>\n",
       "      <td>73.7825</td>\n",
       "      <td>17.96</td>\n",
       "      <td>3.44</td>\n",
       "    </tr>\n",
       "    <tr>\n",
       "      <th>4</th>\n",
       "      <td>102</td>\n",
       "      <td>SDG: Central and Southern Asia</td>\n",
       "      <td>Kazakhstan</td>\n",
       "      <td>2014</td>\n",
       "      <td>female</td>\n",
       "      <td>99.9</td>\n",
       "      <td>36.650000</td>\n",
       "      <td>0.000000</td>\n",
       "      <td>115.17</td>\n",
       "      <td>73.7825</td>\n",
       "      <td>17.32</td>\n",
       "      <td>3.42</td>\n",
       "    </tr>\n",
       "  </tbody>\n",
       "</table>\n",
       "</div>"
      ],
      "text/plain": [
       "   Unnamed: 0                          Region     Country  Year  Gender  \\\n",
       "0          98  SDG: Central and Southern Asia  Kazakhstan  2012  female   \n",
       "1          99  SDG: Central and Southern Asia  Kazakhstan  2012    male   \n",
       "2         100  SDG: Central and Southern Asia  Kazakhstan  2013  female   \n",
       "3         101  SDG: Central and Southern Asia  Kazakhstan  2013    male   \n",
       "4         102  SDG: Central and Southern Asia  Kazakhstan  2014  female   \n",
       "\n",
       "   Completion Rate for Primary Edu  Childhood Education GER  \\\n",
       "0                             99.8                46.379381   \n",
       "1                             99.7                46.379381   \n",
       "2                             99.9                46.379381   \n",
       "3                             99.8                46.379381   \n",
       "4                             99.9                36.650000   \n",
       "\n",
       "   Gross enrolment ratio, early childhood educational development programmes,  \\\n",
       "0                                           6.361501                            \n",
       "1                                           6.361501                            \n",
       "2                                           6.361501                            \n",
       "3                                           6.361501                            \n",
       "4                                           0.000000                            \n",
       "\n",
       "   Gross intake ratio to the last grade of primary education,  \\\n",
       "0                                             108.19            \n",
       "1                                             106.88            \n",
       "2                                             109.76            \n",
       "3                                             108.90            \n",
       "4                                             115.17            \n",
       "\n",
       "   Literacy rate for 25-64 years old  \\\n",
       "0                            73.7825   \n",
       "1                            73.7825   \n",
       "2                            73.7825   \n",
       "3                            73.7825   \n",
       "4                            73.7825   \n",
       "\n",
       "   Expenditure on education as a percentage of total government expenditure (%)  \\\n",
       "0                                              19.25                              \n",
       "1                                              19.25                              \n",
       "2                                              17.96                              \n",
       "3                                              17.96                              \n",
       "4                                              17.32                              \n",
       "\n",
       "   Government expenditure on education as a percentage of GDP (%)  \n",
       "0                                               3.90               \n",
       "1                                               3.90               \n",
       "2                                               3.44               \n",
       "3                                               3.44               \n",
       "4                                               3.42               "
      ]
     },
     "execution_count": 50,
     "metadata": {},
     "output_type": "execute_result"
    }
   ],
   "source": [
    "\n",
    "df4.head()"
   ]
  },
  {
   "cell_type": "code",
   "execution_count": 51,
   "id": "a7edb843",
   "metadata": {},
   "outputs": [
    {
     "data": {
      "text/plain": [
       "(1698, 12)"
      ]
     },
     "execution_count": 51,
     "metadata": {},
     "output_type": "execute_result"
    }
   ],
   "source": [
    "df4.shape"
   ]
  },
  {
   "cell_type": "code",
   "execution_count": 52,
   "id": "4f2f20ca",
   "metadata": {},
   "outputs": [],
   "source": [
    "\n",
    "df4.to_csv('Preprocessed Primary Edu.csv', index=False)\n",
    "#Saving the data"
   ]
  },
  {
   "cell_type": "code",
   "execution_count": null,
   "id": "0c141c75",
   "metadata": {},
   "outputs": [],
   "source": []
  }
 ],
 "metadata": {
  "kernelspec": {
   "display_name": "Python 3 (ipykernel)",
   "language": "python",
   "name": "python3"
  },
  "language_info": {
   "codemirror_mode": {
    "name": "ipython",
    "version": 3
   },
   "file_extension": ".py",
   "mimetype": "text/x-python",
   "name": "python",
   "nbconvert_exporter": "python",
   "pygments_lexer": "ipython3",
   "version": "3.11.4"
  }
 },
 "nbformat": 4,
 "nbformat_minor": 5
}
