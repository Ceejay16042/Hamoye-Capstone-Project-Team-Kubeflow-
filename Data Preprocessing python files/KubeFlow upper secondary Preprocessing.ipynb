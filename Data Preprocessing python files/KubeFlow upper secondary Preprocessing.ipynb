{
 "cells": [
  {
   "cell_type": "code",
   "execution_count": 1,
   "id": "06e5edde",
   "metadata": {},
   "outputs": [],
   "source": [
    "import pandas as pd\n",
    "\n",
    "# Read the CSV file\n",
    "df = pd.read_csv(\"Raw upper secondary.csv\")\n",
    "\n",
    "# Drop unnecessary columns\n",
    "columns_to_drop = ['Target', 'Indicator Number', 'Metadata']\n",
    "df = df.drop(columns=columns_to_drop, axis='columns')\n",
    "\n",
    "# Pivot the Indicator name column into multiple columns\n",
    "df_pivoted = df.pivot_table(index=[\"Region\", \"Country\", \"Year\"], columns=\"Indicator Name\", values=\"Value\").reset_index()\n",
    "\n",
    "# Extract gender information and remove it from the column names\n",
    "df_pivoted.columns = df_pivoted.columns.str.replace(r'\\s+\\(%\\w+\\)$', '')\n",
    "df_pivoted.columns.name = None\n",
    "\n",
    "# Melt the pivoted DataFrame to reshape it\n",
    "df_melted = df_pivoted.melt(id_vars=[\"Region\", \"Country\", \"Year\"], var_name=\"Indicator Name\", value_name=\"Value\")\n",
    "\n",
    "# Split the \"Indicator Name\" column into \"Indicator\" and \"Gender\"\n",
    "df_melted[['Indicator', 'Gender']] = df_melted['Indicator Name'].str.extract(r'(.*)\\s+(male|female)')\n",
    "\n",
    "# Drop the \"Indicator Name\" column\n",
    "df_melted = df_melted.drop(columns=[\"Indicator Name\"])\n",
    "\n",
    "# Pivot the melted DataFrame to create separate columns for each indicator and gender\n",
    "df_final = df_melted.pivot_table(index=[\"Region\", \"Country\", \"Year\", \"Gender\"], columns=\"Indicator\", values=\"Value\").reset_index()\n",
    "\n",
    "# Reorder the columns as needed\n",
    "column_order = ['Region', 'Country', 'Year', 'Gender'] + list(df_final.columns[4:])\n",
    "df_final = df_final[column_order]\n",
    "\n",
    "# Display the final DataFrame\n",
    "#print(df_final)\n",
    "\n",
    "df_final.to_csv(\"KubeFlow upper secondary.csv\")"
   ]
  },
  {
   "cell_type": "code",
   "execution_count": 2,
   "id": "d187b995",
   "metadata": {},
   "outputs": [
    {
     "data": {
      "text/plain": [
       "Index(['Region', 'Country', 'Year', 'Gender',\n",
       "       'Completion rate, upper secondary education,',\n",
       "       'Gross enrolment ratio, early childhood education,',\n",
       "       'Gross enrolment ratio, early childhood educational development programmes,',\n",
       "       'Literacy rate, population 25-64 years,',\n",
       "       'Percentage of children under 5 years experiencing positive and stimulating home learning environments,',\n",
       "       'Proportion of teachers with the minimum required qualifications in upper secondary education,',\n",
       "       'Teacher attrition rate from upper secondary education,'],\n",
       "      dtype='object', name='Indicator')"
      ]
     },
     "execution_count": 2,
     "metadata": {},
     "output_type": "execute_result"
    }
   ],
   "source": [
    "df_final.columns"
   ]
  },
  {
   "cell_type": "code",
   "execution_count": 3,
   "id": "d9f509fe",
   "metadata": {},
   "outputs": [
    {
     "data": {
      "text/plain": [
       "(4350, 11)"
      ]
     },
     "execution_count": 3,
     "metadata": {},
     "output_type": "execute_result"
    }
   ],
   "source": [
    "df_final.shape"
   ]
  },
  {
   "cell_type": "code",
   "execution_count": 4,
   "id": "bd87b625",
   "metadata": {},
   "outputs": [],
   "source": [
    "df_Addcol = pd.read_csv(\"upper secondary metadata.csv\")\n",
    "\n",
    "columns_to_drop = ['Target', 'Indicator Number', 'Metadata']\n",
    "df_Addcol = df_Addcol.drop(columns=columns_to_drop, axis='columns')\n",
    "\n",
    "# Pivot the Indicator name column into multiple columns\n",
    "df_Addcol = df_Addcol.pivot_table(index=[\"Region\", \"Country\", \"Year\"], columns=\"Indicator Name\", values=\"Value\")\n",
    "\n",
    "df_Addcol.to_csv(\"try2.csv\")"
   ]
  },
  {
   "cell_type": "code",
   "execution_count": 5,
   "id": "fe83eb05",
   "metadata": {},
   "outputs": [],
   "source": [
    "# Import pandas library\n",
    "import pandas as pd\n",
    "\n",
    "# Read the first dataset as a dataframe\n",
    "df1 = pd.read_csv(\"KubeFlow upper secondary.csv\")\n",
    "\n",
    "# Read the second dataset as a dataframe\n",
    "df2 = pd.read_csv(\"try2.csv\")\n",
    "\n",
    "# Select the columns from the second dataset that you want to add to the first one\n",
    "cols = [\"Existence of funding mechanisms to reallocate education resources to disadvantaged populations\", \"Expenditure on education as a percentage of total government expenditure (%)\", \"Government expenditure on education as a percentage of GDP (%)\"]\n",
    "\n",
    "# Merge the two dataframes on country and year, keeping only the selected columns from the second one\n",
    "df_merged = pd.merge(df1, df2[[\"Country\", \"Year\"] + cols], on=[\"Country\", \"Year\"], how=\"left\")\n",
    "\n",
    "# Drop any duplicate rows from the merged dataframe\n",
    "df_merged = df_merged.drop_duplicates()\n",
    "\n"
   ]
  },
  {
   "cell_type": "code",
   "execution_count": 6,
   "id": "93db7257",
   "metadata": {},
   "outputs": [
    {
     "data": {
      "text/plain": [
       "(4350, 15)"
      ]
     },
     "execution_count": 6,
     "metadata": {},
     "output_type": "execute_result"
    }
   ],
   "source": [
    "df_merged.shape"
   ]
  },
  {
   "cell_type": "markdown",
   "id": "e047b211",
   "metadata": {},
   "source": [
    "# Removing duplicate regions\n",
    "As you can see below the region - Central Asia & Southern Asia are created separately but we a region Central and Southern Asia which has countries present in both/ so we will drop the separately created regions"
   ]
  },
  {
   "cell_type": "code",
   "execution_count": 7,
   "id": "42a6aeca",
   "metadata": {},
   "outputs": [
    {
     "name": "stdout",
     "output_type": "stream",
     "text": [
      "India appears 44 times in the first dataset.\n"
     ]
    }
   ],
   "source": [
    "\n",
    "country_counts = df_merged[\"Country\"].value_counts()\n",
    "\n",
    "country = \"India\"\n",
    "\n",
    "print(\"{} appears {} times in the first dataset.\".format(country, country_counts[country]))"
   ]
  },
  {
   "cell_type": "code",
   "execution_count": 8,
   "id": "d8412003",
   "metadata": {},
   "outputs": [
    {
     "name": "stdout",
     "output_type": "stream",
     "text": [
      "The unique regions in the dataset are:\n",
      "['SDG: Central Asia' 'SDG: Central and Southern Asia'\n",
      " 'SDG: Eastern and South-Eastern Asia' 'SDG: Europe and Northern America'\n",
      " 'SDG: Latin America and the Caribbean'\n",
      " 'SDG: Northern Africa and Western Asia' 'SDG: Oceania'\n",
      " 'SDG: Southern Asia' 'SDG: Sub-Saharan Africa']\n"
     ]
    }
   ],
   "source": [
    "\n",
    "regions = df_merged[\"Region\"].unique()\n",
    "\n",
    "print(\"The unique regions in the dataset are:\")\n",
    "print(regions)"
   ]
  },
  {
   "cell_type": "code",
   "execution_count": 9,
   "id": "28d7645e",
   "metadata": {},
   "outputs": [
    {
     "name": "stdout",
     "output_type": "stream",
     "text": [
      "The unique countries in each region are:\n",
      "Region\n",
      "SDG: Central Asia                        [Kazakhstan, Kyrgyzstan, Tajikistan, Turkmenis...\n",
      "SDG: Central and Southern Asia           [Kazakhstan, Kyrgyzstan, Tajikistan, Turkmenis...\n",
      "SDG: Eastern and South-Eastern Asia      [Brunei Darussalam, Cambodia, China, China, Ho...\n",
      "SDG: Europe and Northern America         [Albania, Andorra, Austria, Belarus, Belgium, ...\n",
      "SDG: Latin America and the Caribbean     [Anguilla, Antigua and Barbuda, Argentina, Aru...\n",
      "SDG: Northern Africa and Western Asia    [Algeria, Armenia, Azerbaijan, Bahrain, Cyprus...\n",
      "SDG: Oceania                             [Australia, Cook Islands, Fiji, Kiribati, Mars...\n",
      "SDG: Southern Asia                       [Afghanistan, Bangladesh, Bhutan, India, Iran ...\n",
      "SDG: Sub-Saharan Africa                  [Angola, Benin, Botswana, Burkina Faso, Burund...\n",
      "Name: Country, dtype: object\n"
     ]
    }
   ],
   "source": [
    "# Grouping the dataframe by Region and get the unique countries in each group\n",
    "country_groups = df_merged.groupby(\"Region\")[\"Country\"].unique()\n",
    "\n",
    "print(\"The unique countries in each region are:\")\n",
    "print(country_groups)"
   ]
  },
  {
   "cell_type": "code",
   "execution_count": 10,
   "id": "bb4608c0",
   "metadata": {},
   "outputs": [
    {
     "name": "stdout",
     "output_type": "stream",
     "text": [
      "India appears 44 times in the first dataset.\n"
     ]
    }
   ],
   "source": [
    "\n",
    "country_counts = df_merged[\"Country\"].value_counts()\n",
    "\n",
    "country = \"India\"\n",
    "\n",
    "print(\"{} appears {} times in the first dataset.\".format(country, country_counts[country]))"
   ]
  },
  {
   "cell_type": "code",
   "execution_count": 11,
   "id": "5af5d5ef",
   "metadata": {},
   "outputs": [
    {
     "data": {
      "text/plain": [
       "(4350, 15)"
      ]
     },
     "execution_count": 11,
     "metadata": {},
     "output_type": "execute_result"
    }
   ],
   "source": [
    "df_merged.shape"
   ]
  },
  {
   "cell_type": "markdown",
   "id": "2269ae62",
   "metadata": {},
   "source": [
    "# Keeping only the devloping countries in the dataset "
   ]
  },
  {
   "cell_type": "code",
   "execution_count": 12,
   "id": "7fcf9a70",
   "metadata": {},
   "outputs": [],
   "source": [
    "devloping_countries = ['Afghanistan',\n",
    "'Albania',\n",
    "'Algeria',\n",
    "'American Samoa',\n",
    "'Angola',\n",
    "'Antigua and Barbuda',\n",
    "'Argentina',\n",
    "'Armenia',\n",
    "'Azerbaijan',\n",
    "'Bangladesh',\n",
    "'Belarus',\n",
    "'Belize',\n",
    "'Benin',\n",
    "'Bhutan',\n",
    "'Bolivia',\n",
    "'Bosnia and Herzegovina',\n",
    "'Botswana',\n",
    "'Brazil',\n",
    "'Bulgaria',\n",
    "'Burkina Faso',\n",
    "'Burundi',\n",
    "'Cambodia',\n",
    "'Cameroon',\n",
    "'Cape Verde',\n",
    "'Central African Republic',\n",
    "'Chad',\n",
    "'Chile',\n",
    "'China',\n",
    "'Colombia',\n",
    "'Comoros',\n",
    "'Congo, Dem. Rep',\n",
    "'Congo, Rep.',\n",
    "'Costa Rica',\n",
    "'Côte d’Ivoire',\n",
    "'Cuba',\n",
    "'Djibouti',\n",
    "'Dominica',\n",
    "'Dominican Republic',\n",
    "'Ecuador',\n",
    "'Egypt, Arab Rep.',\n",
    "'El Salvador',\n",
    "'Eritrea',\n",
    "'Ethiopia',\n",
    "'Fiji',\n",
    "'Gabon',\n",
    "'Gambia',\n",
    "'Georgia',\n",
    "'Ghana',\n",
    "'Grenada',\n",
    "'Guatemala',\n",
    "'Guinea',\n",
    "'Guinea-Bisau',\n",
    "'Guyana',\n",
    "'Haiti',\n",
    "'Honduras',\n",
    "'India',\n",
    "'Indonesia',\n",
    "'Iran, Islamic Rep.',\n",
    "'Iraq',\n",
    "'Jamaica',\n",
    "'Jordan',\n",
    "'Kazakhstan',\n",
    "'Kenya',\n",
    "'Kiribati',\n",
    "'Korea, Dem Rep.',\n",
    "'Kosovo',\n",
    "'Kyrgyz Republic',\n",
    "'Lao PDR',\n",
    "'Latvia',\n",
    "'Lebanon',\n",
    "'Lesotho',\n",
    "'Liberia',\n",
    "'Libya',\n",
    "'Lithuania',\n",
    "'Macedonia, FYR',\n",
    "'Madagascar',\n",
    "'Malawi',\n",
    "'Malaysia',\n",
    "'Maldives',\n",
    "'Mali',\n",
    "'Marshall Islands',\n",
    "'Mauritania',\n",
    "'Mauritius',\n",
    "'Mayotte',\n",
    "'Mexico',\n",
    "'Micronesia, Fed. Sts.',\n",
    "'Moldova',\n",
    "'Mongolia',\n",
    "'Montenegro',\n",
    "'Morocco',\n",
    "'Mozambique',\n",
    "'Myanmar',\n",
    "'Namibia',\n",
    "'Nepal',\n",
    "'Nicaragua',\n",
    "'Niger',\n",
    "'Nigeria',\n",
    "'Pakistan',\n",
    "'Palau',\n",
    "'Panama',\n",
    "'Papua New Guinea',\n",
    "'Paraguay',\n",
    "'Peru',\n",
    "'Philippines',\n",
    "'Romania',\n",
    "'Russian Federation',\n",
    "'Rwanda',\n",
    "'Samoa',\n",
    "'São Tomé and Principe',\n",
    "'Senegal',\n",
    "'Serbia',\n",
    "'Seychelles',\n",
    "'Sierra Leone',\n",
    "'Solomon Islands',\n",
    "'Somalia',\n",
    "'South Africa',\n",
    "'Sri Lanka',\n",
    "'St. Kitts and Nevis',\n",
    "'St. Lucia',\n",
    "'St. Vincent and the Grenadines',\n",
    "'Sudan',\n",
    "'Suriname',\n",
    "'Swaziland',\n",
    "'Syrian Arab Republic',\n",
    "'Tajikistan',\n",
    "'Tanzania',\n",
    "'Thailand',\n",
    "'Timor-Leste',\n",
    "'Togo',\n",
    "'Tonga',\n",
    "'Tunisia',\n",
    "'Turkey',\n",
    "'Turkmenistan',\n",
    "'Tuvalu',\n",
    "'Uganda',\n",
    "'Ukraine',\n",
    "'Uruguay',\n",
    "'Uzbekistan',\n",
    "'Vanuatu',\n",
    "'Venezuela',\n",
    "'Vietnam',\n",
    "'West Bank and Gaza',\n",
    "'Yemen, Rep.',\n",
    "'Zambia',\n",
    "'Zimbabwe']\n"
   ]
  },
  {
   "cell_type": "code",
   "execution_count": 13,
   "id": "82a85bc1",
   "metadata": {},
   "outputs": [
    {
     "data": {
      "text/plain": [
       "145"
      ]
     },
     "execution_count": 13,
     "metadata": {},
     "output_type": "execute_result"
    }
   ],
   "source": [
    "len(devloping_countries)"
   ]
  },
  {
   "cell_type": "code",
   "execution_count": 14,
   "id": "f966dca4",
   "metadata": {},
   "outputs": [],
   "source": [
    "filtered_df = df_merged[df_merged['Country'].isin(devloping_countries)]"
   ]
  },
  {
   "cell_type": "code",
   "execution_count": 15,
   "id": "5cd9ed88",
   "metadata": {},
   "outputs": [
    {
     "data": {
      "text/plain": [
       "(2592, 15)"
      ]
     },
     "execution_count": 15,
     "metadata": {},
     "output_type": "execute_result"
    }
   ],
   "source": [
    "filtered_df.shape"
   ]
  },
  {
   "cell_type": "code",
   "execution_count": 16,
   "id": "30906d0f",
   "metadata": {},
   "outputs": [],
   "source": [
    "# Saving the dataframe as a new CSV file\n",
    "filtered_df.to_csv(\"upper secondary final.csv\", index=False)"
   ]
  },
  {
   "cell_type": "code",
   "execution_count": null,
   "id": "e2ff74e1",
   "metadata": {},
   "outputs": [],
   "source": []
  },
  {
   "cell_type": "markdown",
   "id": "d4645ca7",
   "metadata": {},
   "source": [
    "# Data Cleaning"
   ]
  },
  {
   "cell_type": "code",
   "execution_count": 17,
   "id": "d0201300",
   "metadata": {},
   "outputs": [],
   "source": [
    "import pandas as pd\n",
    "import matplotlib.pyplot as plt"
   ]
  },
  {
   "cell_type": "code",
   "execution_count": 18,
   "id": "aa775bb4",
   "metadata": {},
   "outputs": [],
   "source": [
    "df=pd.read_csv(\"upper secondary final.csv\")"
   ]
  },
  {
   "cell_type": "code",
   "execution_count": 19,
   "id": "be824bb1",
   "metadata": {},
   "outputs": [
    {
     "data": {
      "text/html": [
       "<div>\n",
       "<style scoped>\n",
       "    .dataframe tbody tr th:only-of-type {\n",
       "        vertical-align: middle;\n",
       "    }\n",
       "\n",
       "    .dataframe tbody tr th {\n",
       "        vertical-align: top;\n",
       "    }\n",
       "\n",
       "    .dataframe thead th {\n",
       "        text-align: right;\n",
       "    }\n",
       "</style>\n",
       "<table border=\"1\" class=\"dataframe\">\n",
       "  <thead>\n",
       "    <tr style=\"text-align: right;\">\n",
       "      <th></th>\n",
       "      <th>Unnamed: 0</th>\n",
       "      <th>Region</th>\n",
       "      <th>Country</th>\n",
       "      <th>Year</th>\n",
       "      <th>Gender</th>\n",
       "      <th>Completion rate, upper secondary education,</th>\n",
       "      <th>Gross enrolment ratio, early childhood education,</th>\n",
       "      <th>Gross enrolment ratio, early childhood educational development programmes,</th>\n",
       "      <th>Literacy rate, population 25-64 years,</th>\n",
       "      <th>Percentage of children under 5 years experiencing positive and stimulating home learning environments,</th>\n",
       "      <th>Proportion of teachers with the minimum required qualifications in upper secondary education,</th>\n",
       "      <th>Teacher attrition rate from upper secondary education,</th>\n",
       "      <th>Existence of funding mechanisms to reallocate education resources to disadvantaged populations</th>\n",
       "      <th>Expenditure on education as a percentage of total government expenditure (%)</th>\n",
       "      <th>Government expenditure on education as a percentage of GDP (%)</th>\n",
       "    </tr>\n",
       "  </thead>\n",
       "  <tbody>\n",
       "    <tr>\n",
       "      <th>0</th>\n",
       "      <td>0</td>\n",
       "      <td>SDG: Central Asia</td>\n",
       "      <td>Kazakhstan</td>\n",
       "      <td>2012</td>\n",
       "      <td>female</td>\n",
       "      <td>96.9</td>\n",
       "      <td>NaN</td>\n",
       "      <td>NaN</td>\n",
       "      <td>NaN</td>\n",
       "      <td>NaN</td>\n",
       "      <td>NaN</td>\n",
       "      <td>NaN</td>\n",
       "      <td>NaN</td>\n",
       "      <td>19.25</td>\n",
       "      <td>3.90</td>\n",
       "    </tr>\n",
       "    <tr>\n",
       "      <th>1</th>\n",
       "      <td>1</td>\n",
       "      <td>SDG: Central Asia</td>\n",
       "      <td>Kazakhstan</td>\n",
       "      <td>2012</td>\n",
       "      <td>male</td>\n",
       "      <td>96.2</td>\n",
       "      <td>NaN</td>\n",
       "      <td>NaN</td>\n",
       "      <td>NaN</td>\n",
       "      <td>NaN</td>\n",
       "      <td>NaN</td>\n",
       "      <td>NaN</td>\n",
       "      <td>NaN</td>\n",
       "      <td>19.25</td>\n",
       "      <td>3.90</td>\n",
       "    </tr>\n",
       "    <tr>\n",
       "      <th>2</th>\n",
       "      <td>2</td>\n",
       "      <td>SDG: Central Asia</td>\n",
       "      <td>Kazakhstan</td>\n",
       "      <td>2013</td>\n",
       "      <td>female</td>\n",
       "      <td>97.0</td>\n",
       "      <td>NaN</td>\n",
       "      <td>NaN</td>\n",
       "      <td>NaN</td>\n",
       "      <td>NaN</td>\n",
       "      <td>NaN</td>\n",
       "      <td>NaN</td>\n",
       "      <td>NaN</td>\n",
       "      <td>17.96</td>\n",
       "      <td>3.44</td>\n",
       "    </tr>\n",
       "    <tr>\n",
       "      <th>3</th>\n",
       "      <td>3</td>\n",
       "      <td>SDG: Central Asia</td>\n",
       "      <td>Kazakhstan</td>\n",
       "      <td>2013</td>\n",
       "      <td>male</td>\n",
       "      <td>96.4</td>\n",
       "      <td>NaN</td>\n",
       "      <td>NaN</td>\n",
       "      <td>NaN</td>\n",
       "      <td>NaN</td>\n",
       "      <td>NaN</td>\n",
       "      <td>NaN</td>\n",
       "      <td>NaN</td>\n",
       "      <td>17.96</td>\n",
       "      <td>3.44</td>\n",
       "    </tr>\n",
       "    <tr>\n",
       "      <th>4</th>\n",
       "      <td>4</td>\n",
       "      <td>SDG: Central Asia</td>\n",
       "      <td>Kazakhstan</td>\n",
       "      <td>2014</td>\n",
       "      <td>female</td>\n",
       "      <td>97.2</td>\n",
       "      <td>36.65</td>\n",
       "      <td>0.0</td>\n",
       "      <td>NaN</td>\n",
       "      <td>NaN</td>\n",
       "      <td>NaN</td>\n",
       "      <td>NaN</td>\n",
       "      <td>NaN</td>\n",
       "      <td>17.32</td>\n",
       "      <td>3.42</td>\n",
       "    </tr>\n",
       "  </tbody>\n",
       "</table>\n",
       "</div>"
      ],
      "text/plain": [
       "   Unnamed: 0             Region     Country  Year  Gender  \\\n",
       "0           0  SDG: Central Asia  Kazakhstan  2012  female   \n",
       "1           1  SDG: Central Asia  Kazakhstan  2012    male   \n",
       "2           2  SDG: Central Asia  Kazakhstan  2013  female   \n",
       "3           3  SDG: Central Asia  Kazakhstan  2013    male   \n",
       "4           4  SDG: Central Asia  Kazakhstan  2014  female   \n",
       "\n",
       "   Completion rate, upper secondary education,  \\\n",
       "0                                         96.9   \n",
       "1                                         96.2   \n",
       "2                                         97.0   \n",
       "3                                         96.4   \n",
       "4                                         97.2   \n",
       "\n",
       "   Gross enrolment ratio, early childhood education,  \\\n",
       "0                                                NaN   \n",
       "1                                                NaN   \n",
       "2                                                NaN   \n",
       "3                                                NaN   \n",
       "4                                              36.65   \n",
       "\n",
       "   Gross enrolment ratio, early childhood educational development programmes,  \\\n",
       "0                                                NaN                            \n",
       "1                                                NaN                            \n",
       "2                                                NaN                            \n",
       "3                                                NaN                            \n",
       "4                                                0.0                            \n",
       "\n",
       "   Literacy rate, population 25-64 years,  \\\n",
       "0                                     NaN   \n",
       "1                                     NaN   \n",
       "2                                     NaN   \n",
       "3                                     NaN   \n",
       "4                                     NaN   \n",
       "\n",
       "   Percentage of children under 5 years experiencing positive and stimulating home learning environments,  \\\n",
       "0                                                NaN                                                        \n",
       "1                                                NaN                                                        \n",
       "2                                                NaN                                                        \n",
       "3                                                NaN                                                        \n",
       "4                                                NaN                                                        \n",
       "\n",
       "   Proportion of teachers with the minimum required qualifications in upper secondary education,  \\\n",
       "0                                                NaN                                               \n",
       "1                                                NaN                                               \n",
       "2                                                NaN                                               \n",
       "3                                                NaN                                               \n",
       "4                                                NaN                                               \n",
       "\n",
       "   Teacher attrition rate from upper secondary education,  \\\n",
       "0                                                NaN        \n",
       "1                                                NaN        \n",
       "2                                                NaN        \n",
       "3                                                NaN        \n",
       "4                                                NaN        \n",
       "\n",
       "   Existence of funding mechanisms to reallocate education resources to disadvantaged populations  \\\n",
       "0                                                NaN                                                \n",
       "1                                                NaN                                                \n",
       "2                                                NaN                                                \n",
       "3                                                NaN                                                \n",
       "4                                                NaN                                                \n",
       "\n",
       "   Expenditure on education as a percentage of total government expenditure (%)  \\\n",
       "0                                              19.25                              \n",
       "1                                              19.25                              \n",
       "2                                              17.96                              \n",
       "3                                              17.96                              \n",
       "4                                              17.32                              \n",
       "\n",
       "   Government expenditure on education as a percentage of GDP (%)  \n",
       "0                                               3.90               \n",
       "1                                               3.90               \n",
       "2                                               3.44               \n",
       "3                                               3.44               \n",
       "4                                               3.42               "
      ]
     },
     "execution_count": 19,
     "metadata": {},
     "output_type": "execute_result"
    }
   ],
   "source": [
    "df.head()"
   ]
  },
  {
   "cell_type": "code",
   "execution_count": 20,
   "id": "3d5cf985",
   "metadata": {},
   "outputs": [
    {
     "data": {
      "text/plain": [
       "Unnamed: 0                                                                                                   0\n",
       "Region                                                                                                       0\n",
       "Country                                                                                                      0\n",
       "Year                                                                                                         0\n",
       "Gender                                                                                                       0\n",
       "Completion rate, upper secondary education,                                                                716\n",
       "Gross enrolment ratio, early childhood education,                                                          974\n",
       "Gross enrolment ratio, early childhood educational development programmes,                                 370\n",
       "Literacy rate, population 25-64 years,                                                                    1922\n",
       "Percentage of children under 5 years experiencing positive and stimulating home learning environments,    2472\n",
       "Proportion of teachers with the minimum required qualifications in upper secondary education,             2054\n",
       "Teacher attrition rate from upper secondary education,                                                    2500\n",
       "Existence of funding mechanisms to reallocate education resources to disadvantaged populations            2452\n",
       "Expenditure on education as a percentage of total government expenditure (%)                               644\n",
       "Government expenditure on education as a percentage of GDP (%)                                             590\n",
       "dtype: int64"
      ]
     },
     "execution_count": 20,
     "metadata": {},
     "output_type": "execute_result"
    }
   ],
   "source": [
    "df.isnull().sum()"
   ]
  },
  {
   "cell_type": "code",
   "execution_count": 21,
   "id": "65dee5ae",
   "metadata": {},
   "outputs": [],
   "source": [
    "df2 = df[~df.Year.isin([2022])]\n",
    "#Excluding the year '2022' from the dataset"
   ]
  },
  {
   "cell_type": "markdown",
   "id": "1b897ccf",
   "metadata": {},
   "source": [
    "**Percentage of Missing Data**"
   ]
  },
  {
   "cell_type": "code",
   "execution_count": 22,
   "id": "0fef1ee4",
   "metadata": {},
   "outputs": [
    {
     "data": {
      "text/plain": [
       "Unnamed: 0                                                                                                 0.00\n",
       "Region                                                                                                     0.00\n",
       "Country                                                                                                    0.00\n",
       "Year                                                                                                       0.00\n",
       "Gender                                                                                                     0.00\n",
       "Completion rate, upper secondary education,                                                               23.99\n",
       "Gross enrolment ratio, early childhood education,                                                         35.33\n",
       "Gross enrolment ratio, early childhood educational development programmes,                                14.99\n",
       "Literacy rate, population 25-64 years,                                                                    72.85\n",
       "Percentage of children under 5 years experiencing positive and stimulating home learning environments,    95.14\n",
       "Proportion of teachers with the minimum required qualifications in upper secondary education,             78.53\n",
       "Teacher attrition rate from upper secondary education,                                                    96.27\n",
       "Existence of funding mechanisms to reallocate education resources to disadvantaged populations            94.33\n",
       "Expenditure on education as a percentage of total government expenditure (%)                              23.66\n",
       "Government expenditure on education as a percentage of GDP (%)                                            19.37\n",
       "dtype: float64"
      ]
     },
     "execution_count": 22,
     "metadata": {},
     "output_type": "execute_result"
    }
   ],
   "source": [
    "round((df2.isnull().sum()/len(df2) *100), 2)"
   ]
  },
  {
   "cell_type": "markdown",
   "id": "45dfe5d4",
   "metadata": {},
   "source": [
    "It's observed that about 17% of the dataset didnt have value for the target variable(Completion rate, upper secondary education,).Let's see the names of those countries that didn't have velues for the target variable"
   ]
  },
  {
   "cell_type": "code",
   "execution_count": 23,
   "id": "ebc00f3e",
   "metadata": {},
   "outputs": [
    {
     "name": "stdout",
     "output_type": "stream",
     "text": [
      "About 93 countries didnt have the target variable\n",
      "The name of those countries are : ['Tajikistan' 'Uzbekistan' 'Afghanistan' 'Bangladesh' 'Bhutan' 'India'\n",
      " 'Maldives' 'Nepal' 'Pakistan' 'Sri Lanka' 'Cambodia' 'China' 'Malaysia'\n",
      " 'Mongolia' 'Philippines' 'Thailand' 'Timor-Leste' 'Albania' 'Belarus'\n",
      " 'Bosnia and Herzegovina' 'Montenegro' 'Serbia' 'Ukraine'\n",
      " 'Antigua and Barbuda' 'Belize' 'Chile' 'Cuba' 'Dominica' 'Ecuador'\n",
      " 'El Salvador' 'Grenada' 'Guatemala' 'Guyana' 'Honduras' 'Jamaica'\n",
      " 'Nicaragua' 'Panama' 'Suriname' 'Algeria' 'Armenia' 'Azerbaijan'\n",
      " 'Georgia' 'Jordan' 'Lebanon' 'Libya' 'Morocco' 'Syrian Arab Republic'\n",
      " 'Tunisia' 'Fiji' 'Kiribati' 'Marshall Islands' 'Palau' 'Samoa'\n",
      " 'Solomon Islands' 'Tonga' 'Tuvalu' 'Vanuatu' 'Angola' 'Benin' 'Botswana'\n",
      " 'Burkina Faso' 'Burundi' 'Cameroon' 'Central African Republic' 'Chad'\n",
      " 'Comoros' 'Djibouti' 'Eritrea' 'Ethiopia' 'Gabon' 'Gambia' 'Ghana'\n",
      " 'Guinea' 'Kenya' 'Lesotho' 'Liberia' 'Madagascar' 'Malawi' 'Mali'\n",
      " 'Mauritania' 'Mauritius' 'Mozambique' 'Namibia' 'Niger' 'Rwanda'\n",
      " 'Senegal' 'Seychelles' 'Sierra Leone' 'Somalia' 'Togo' 'Uganda' 'Zambia'\n",
      " 'Zimbabwe']\n"
     ]
    }
   ],
   "source": [
    "null_mask= df['Completion rate, upper secondary education,'].isnull()\n",
    "null_rows= df.loc[null_mask]\n",
    "null_countries= null_rows.Country\n",
    "print(\"About\",null_countries.nunique(), \"countries didnt have the target variable\")\n",
    "print(\"The name of those countries are :\", null_countries.unique())"
   ]
  },
  {
   "cell_type": "code",
   "execution_count": 24,
   "id": "5d74de6d",
   "metadata": {},
   "outputs": [
    {
     "data": {
      "text/html": [
       "<div>\n",
       "<style scoped>\n",
       "    .dataframe tbody tr th:only-of-type {\n",
       "        vertical-align: middle;\n",
       "    }\n",
       "\n",
       "    .dataframe tbody tr th {\n",
       "        vertical-align: top;\n",
       "    }\n",
       "\n",
       "    .dataframe thead th {\n",
       "        text-align: right;\n",
       "    }\n",
       "</style>\n",
       "<table border=\"1\" class=\"dataframe\">\n",
       "  <thead>\n",
       "    <tr style=\"text-align: right;\">\n",
       "      <th></th>\n",
       "      <th>Unnamed: 0</th>\n",
       "      <th>Region</th>\n",
       "      <th>Country</th>\n",
       "      <th>Year</th>\n",
       "      <th>Gender</th>\n",
       "      <th>Completion rate, upper secondary education,</th>\n",
       "      <th>Gross enrolment ratio, early childhood education,</th>\n",
       "      <th>Gross enrolment ratio, early childhood educational development programmes,</th>\n",
       "      <th>Literacy rate, population 25-64 years,</th>\n",
       "      <th>Percentage of children under 5 years experiencing positive and stimulating home learning environments,</th>\n",
       "      <th>Proportion of teachers with the minimum required qualifications in upper secondary education,</th>\n",
       "      <th>Teacher attrition rate from upper secondary education,</th>\n",
       "      <th>Existence of funding mechanisms to reallocate education resources to disadvantaged populations</th>\n",
       "      <th>Expenditure on education as a percentage of total government expenditure (%)</th>\n",
       "      <th>Government expenditure on education as a percentage of GDP (%)</th>\n",
       "    </tr>\n",
       "  </thead>\n",
       "  <tbody>\n",
       "    <tr>\n",
       "      <th>36</th>\n",
       "      <td>56</td>\n",
       "      <td>SDG: Central Asia</td>\n",
       "      <td>Tajikistan</td>\n",
       "      <td>2021</td>\n",
       "      <td>female</td>\n",
       "      <td>NaN</td>\n",
       "      <td>NaN</td>\n",
       "      <td>0.0</td>\n",
       "      <td>NaN</td>\n",
       "      <td>NaN</td>\n",
       "      <td>NaN</td>\n",
       "      <td>NaN</td>\n",
       "      <td>NaN</td>\n",
       "      <td>19.91</td>\n",
       "      <td>5.66</td>\n",
       "    </tr>\n",
       "    <tr>\n",
       "      <th>37</th>\n",
       "      <td>57</td>\n",
       "      <td>SDG: Central Asia</td>\n",
       "      <td>Tajikistan</td>\n",
       "      <td>2021</td>\n",
       "      <td>male</td>\n",
       "      <td>NaN</td>\n",
       "      <td>NaN</td>\n",
       "      <td>0.0</td>\n",
       "      <td>NaN</td>\n",
       "      <td>NaN</td>\n",
       "      <td>NaN</td>\n",
       "      <td>NaN</td>\n",
       "      <td>NaN</td>\n",
       "      <td>19.91</td>\n",
       "      <td>5.66</td>\n",
       "    </tr>\n",
       "    <tr>\n",
       "      <th>38</th>\n",
       "      <td>58</td>\n",
       "      <td>SDG: Central Asia</td>\n",
       "      <td>Tajikistan</td>\n",
       "      <td>2022</td>\n",
       "      <td>female</td>\n",
       "      <td>NaN</td>\n",
       "      <td>NaN</td>\n",
       "      <td>0.0</td>\n",
       "      <td>NaN</td>\n",
       "      <td>NaN</td>\n",
       "      <td>NaN</td>\n",
       "      <td>NaN</td>\n",
       "      <td>NaN</td>\n",
       "      <td>18.75</td>\n",
       "      <td>NaN</td>\n",
       "    </tr>\n",
       "    <tr>\n",
       "      <th>39</th>\n",
       "      <td>59</td>\n",
       "      <td>SDG: Central Asia</td>\n",
       "      <td>Tajikistan</td>\n",
       "      <td>2022</td>\n",
       "      <td>male</td>\n",
       "      <td>NaN</td>\n",
       "      <td>NaN</td>\n",
       "      <td>0.0</td>\n",
       "      <td>NaN</td>\n",
       "      <td>NaN</td>\n",
       "      <td>NaN</td>\n",
       "      <td>NaN</td>\n",
       "      <td>NaN</td>\n",
       "      <td>18.75</td>\n",
       "      <td>NaN</td>\n",
       "    </tr>\n",
       "    <tr>\n",
       "      <th>58</th>\n",
       "      <td>78</td>\n",
       "      <td>SDG: Central Asia</td>\n",
       "      <td>Uzbekistan</td>\n",
       "      <td>2012</td>\n",
       "      <td>female</td>\n",
       "      <td>NaN</td>\n",
       "      <td>24.43</td>\n",
       "      <td>0.0</td>\n",
       "      <td>NaN</td>\n",
       "      <td>NaN</td>\n",
       "      <td>NaN</td>\n",
       "      <td>NaN</td>\n",
       "      <td>NaN</td>\n",
       "      <td>25.83</td>\n",
       "      <td>6.03</td>\n",
       "    </tr>\n",
       "  </tbody>\n",
       "</table>\n",
       "</div>"
      ],
      "text/plain": [
       "    Unnamed: 0             Region     Country  Year  Gender  \\\n",
       "36          56  SDG: Central Asia  Tajikistan  2021  female   \n",
       "37          57  SDG: Central Asia  Tajikistan  2021    male   \n",
       "38          58  SDG: Central Asia  Tajikistan  2022  female   \n",
       "39          59  SDG: Central Asia  Tajikistan  2022    male   \n",
       "58          78  SDG: Central Asia  Uzbekistan  2012  female   \n",
       "\n",
       "    Completion rate, upper secondary education,  \\\n",
       "36                                          NaN   \n",
       "37                                          NaN   \n",
       "38                                          NaN   \n",
       "39                                          NaN   \n",
       "58                                          NaN   \n",
       "\n",
       "    Gross enrolment ratio, early childhood education,  \\\n",
       "36                                                NaN   \n",
       "37                                                NaN   \n",
       "38                                                NaN   \n",
       "39                                                NaN   \n",
       "58                                              24.43   \n",
       "\n",
       "    Gross enrolment ratio, early childhood educational development programmes,  \\\n",
       "36                                                0.0                            \n",
       "37                                                0.0                            \n",
       "38                                                0.0                            \n",
       "39                                                0.0                            \n",
       "58                                                0.0                            \n",
       "\n",
       "    Literacy rate, population 25-64 years,  \\\n",
       "36                                     NaN   \n",
       "37                                     NaN   \n",
       "38                                     NaN   \n",
       "39                                     NaN   \n",
       "58                                     NaN   \n",
       "\n",
       "    Percentage of children under 5 years experiencing positive and stimulating home learning environments,  \\\n",
       "36                                                NaN                                                        \n",
       "37                                                NaN                                                        \n",
       "38                                                NaN                                                        \n",
       "39                                                NaN                                                        \n",
       "58                                                NaN                                                        \n",
       "\n",
       "    Proportion of teachers with the minimum required qualifications in upper secondary education,  \\\n",
       "36                                                NaN                                               \n",
       "37                                                NaN                                               \n",
       "38                                                NaN                                               \n",
       "39                                                NaN                                               \n",
       "58                                                NaN                                               \n",
       "\n",
       "    Teacher attrition rate from upper secondary education,  \\\n",
       "36                                                NaN        \n",
       "37                                                NaN        \n",
       "38                                                NaN        \n",
       "39                                                NaN        \n",
       "58                                                NaN        \n",
       "\n",
       "    Existence of funding mechanisms to reallocate education resources to disadvantaged populations  \\\n",
       "36                                                NaN                                                \n",
       "37                                                NaN                                                \n",
       "38                                                NaN                                                \n",
       "39                                                NaN                                                \n",
       "58                                                NaN                                                \n",
       "\n",
       "    Expenditure on education as a percentage of total government expenditure (%)  \\\n",
       "36                                              19.91                              \n",
       "37                                              19.91                              \n",
       "38                                              18.75                              \n",
       "39                                              18.75                              \n",
       "58                                              25.83                              \n",
       "\n",
       "    Government expenditure on education as a percentage of GDP (%)  \n",
       "36                                               5.66               \n",
       "37                                               5.66               \n",
       "38                                                NaN               \n",
       "39                                                NaN               \n",
       "58                                               6.03               "
      ]
     },
     "execution_count": 24,
     "metadata": {},
     "output_type": "execute_result"
    }
   ],
   "source": [
    "#Masking countries with out target variabe\n",
    "df_nu=df[null_mask]\n",
    "df_nu.head()"
   ]
  },
  {
   "cell_type": "code",
   "execution_count": 25,
   "id": "72d326a8",
   "metadata": {},
   "outputs": [],
   "source": [
    "mask= df2['Completion rate, upper secondary education,'].notna()\n",
    "#carving out those coutries that didn't have values for the target variable"
   ]
  },
  {
   "cell_type": "code",
   "execution_count": 26,
   "id": "ad88204a",
   "metadata": {},
   "outputs": [],
   "source": [
    "df3= df2[mask]"
   ]
  },
  {
   "cell_type": "code",
   "execution_count": 27,
   "id": "6e041f00",
   "metadata": {},
   "outputs": [
    {
     "data": {
      "text/plain": [
       "Unnamed: 0                                                                                                 0.00\n",
       "Region                                                                                                     0.00\n",
       "Country                                                                                                    0.00\n",
       "Year                                                                                                       0.00\n",
       "Gender                                                                                                     0.00\n",
       "Completion rate, upper secondary education,                                                                0.00\n",
       "Gross enrolment ratio, early childhood education,                                                         36.03\n",
       "Gross enrolment ratio, early childhood educational development programmes,                                17.27\n",
       "Literacy rate, population 25-64 years,                                                                    73.99\n",
       "Percentage of children under 5 years experiencing positive and stimulating home learning environments,    94.03\n",
       "Proportion of teachers with the minimum required qualifications in upper secondary education,             78.04\n",
       "Teacher attrition rate from upper secondary education,                                                    96.38\n",
       "Existence of funding mechanisms to reallocate education resources to disadvantaged populations            93.82\n",
       "Expenditure on education as a percentage of total government expenditure (%)                              20.58\n",
       "Government expenditure on education as a percentage of GDP (%)                                            15.67\n",
       "dtype: float64"
      ]
     },
     "execution_count": 27,
     "metadata": {},
     "output_type": "execute_result"
    }
   ],
   "source": [
    "round((df3.isnull().sum()/len(df3) *100), 2)"
   ]
  },
  {
   "cell_type": "markdown",
   "id": "357ba107",
   "metadata": {},
   "source": [
    "Now, all the dataset has values for the target variables, however they are still some missing values"
   ]
  },
  {
   "cell_type": "code",
   "execution_count": 28,
   "id": "eb48bda6",
   "metadata": {},
   "outputs": [
    {
     "data": {
      "text/plain": [
       "<Axes: >"
      ]
     },
     "execution_count": 28,
     "metadata": {},
     "output_type": "execute_result"
    },
    {
     "data": {
      "image/png": "[encoded data removed]",
      "text/plain": [
       "<Figure size 640x480 with 1 Axes>"
      ]
     },
     "metadata": {},
     "output_type": "display_data"
    }
   ],
   "source": [
    "round((df3.isnull().sum()/len(df3) *100), 2).plot(kind='bar')"
   ]
  },
  {
   "cell_type": "code",
   "execution_count": 29,
   "id": "e41a0888",
   "metadata": {},
   "outputs": [
    {
     "data": {
      "text/plain": [
       "Index(['Unnamed: 0', 'Region', 'Country', 'Year', 'Gender',\n",
       "       'Completion rate, upper secondary education,',\n",
       "       'Gross enrolment ratio, early childhood education,',\n",
       "       'Gross enrolment ratio, early childhood educational development programmes,',\n",
       "       'Literacy rate, population 25-64 years,',\n",
       "       'Percentage of children under 5 years experiencing positive and stimulating home learning environments,',\n",
       "       'Proportion of teachers with the minimum required qualifications in upper secondary education,',\n",
       "       'Teacher attrition rate from upper secondary education,',\n",
       "       'Existence of funding mechanisms to reallocate education resources to disadvantaged populations',\n",
       "       'Expenditure on education as a percentage of total government expenditure (%)',\n",
       "       'Government expenditure on education as a percentage of GDP (%)'],\n",
       "      dtype='object')"
      ]
     },
     "execution_count": 29,
     "metadata": {},
     "output_type": "execute_result"
    }
   ],
   "source": [
    "df3.columns"
   ]
  },
  {
   "cell_type": "markdown",
   "id": "3f2d295e",
   "metadata": {},
   "source": [
    "Droping columns that has more than 90% missing values"
   ]
  },
  {
   "cell_type": "code",
   "execution_count": 30,
   "id": "929d29b7",
   "metadata": {},
   "outputs": [],
   "source": [
    "df4= df3.drop(columns=[\n",
    "       'Percentage of children under 5 years experiencing positive and stimulating home learning environments,',\n",
    "       'Proportion of teachers with the minimum required qualifications in upper secondary education,',\n",
    "       'Teacher attrition rate from upper secondary education,',\n",
    "       'Existence of funding mechanisms to reallocate education resources to disadvantaged populations'\n",
    "        ])"
   ]
  },
  {
   "cell_type": "code",
   "execution_count": 31,
   "id": "cea5724b",
   "metadata": {},
   "outputs": [
    {
     "name": "stdout",
     "output_type": "stream",
     "text": [
      "The shape of is : (1876, 11)\n"
     ]
    },
    {
     "data": {
      "text/plain": [
       "Unnamed: 0                                                                       0.00\n",
       "Region                                                                           0.00\n",
       "Country                                                                          0.00\n",
       "Year                                                                             0.00\n",
       "Gender                                                                           0.00\n",
       "Completion rate, upper secondary education,                                      0.00\n",
       "Gross enrolment ratio, early childhood education,                               36.03\n",
       "Gross enrolment ratio, early childhood educational development programmes,      17.27\n",
       "Literacy rate, population 25-64 years,                                          73.99\n",
       "Expenditure on education as a percentage of total government expenditure (%)    20.58\n",
       "Government expenditure on education as a percentage of GDP (%)                  15.67\n",
       "dtype: float64"
      ]
     },
     "execution_count": 31,
     "metadata": {},
     "output_type": "execute_result"
    }
   ],
   "source": [
    "print('The shape of is :', df4.shape)\n",
    "round((df4.isnull().sum()/len(df3) *100), 2)\n"
   ]
  },
  {
   "cell_type": "code",
   "execution_count": 32,
   "id": "fea92eeb",
   "metadata": {},
   "outputs": [
    {
     "data": {
      "text/plain": [
       "<Axes: >"
      ]
     },
     "execution_count": 32,
     "metadata": {},
     "output_type": "execute_result"
    },
    {
     "data": {
      "image/png": "[encoded data removed]",
      "text/plain": [
       "<Figure size 640x480 with 1 Axes>"
      ]
     },
     "metadata": {},
     "output_type": "display_data"
    }
   ],
   "source": [
    "round((df4.isnull().sum()/len(df3) *100), 2).plot(kind=\"bar\")"
   ]
  },
  {
   "cell_type": "markdown",
   "id": "163de4df",
   "metadata": {},
   "source": [
    "**Analysing \"Literacy rate, population 25-64 years futher**"
   ]
  },
  {
   "cell_type": "code",
   "execution_count": 33,
   "id": "46d57103",
   "metadata": {},
   "outputs": [
    {
     "data": {
      "text/html": [
       "<div>\n",
       "<style scoped>\n",
       "    .dataframe tbody tr th:only-of-type {\n",
       "        vertical-align: middle;\n",
       "    }\n",
       "\n",
       "    .dataframe tbody tr th {\n",
       "        vertical-align: top;\n",
       "    }\n",
       "\n",
       "    .dataframe thead th {\n",
       "        text-align: right;\n",
       "    }\n",
       "</style>\n",
       "<table border=\"1\" class=\"dataframe\">\n",
       "  <thead>\n",
       "    <tr style=\"text-align: right;\">\n",
       "      <th></th>\n",
       "      <th>Unnamed: 0</th>\n",
       "      <th>Region</th>\n",
       "      <th>Country</th>\n",
       "      <th>Year</th>\n",
       "      <th>Gender</th>\n",
       "      <th>Completion rate, upper secondary education,</th>\n",
       "      <th>Gross enrolment ratio, early childhood education,</th>\n",
       "      <th>Gross enrolment ratio, early childhood educational development programmes,</th>\n",
       "      <th>Literacy rate, population 25-64 years,</th>\n",
       "      <th>Expenditure on education as a percentage of total government expenditure (%)</th>\n",
       "      <th>Government expenditure on education as a percentage of GDP (%)</th>\n",
       "    </tr>\n",
       "  </thead>\n",
       "  <tbody>\n",
       "    <tr>\n",
       "      <th>16</th>\n",
       "      <td>16</td>\n",
       "      <td>SDG: Central Asia</td>\n",
       "      <td>Kazakhstan</td>\n",
       "      <td>2020</td>\n",
       "      <td>female</td>\n",
       "      <td>98.30</td>\n",
       "      <td>55.76</td>\n",
       "      <td>28.22</td>\n",
       "      <td>99.8</td>\n",
       "      <td>20.16</td>\n",
       "      <td>4.45</td>\n",
       "    </tr>\n",
       "    <tr>\n",
       "      <th>17</th>\n",
       "      <td>17</td>\n",
       "      <td>SDG: Central Asia</td>\n",
       "      <td>Kazakhstan</td>\n",
       "      <td>2020</td>\n",
       "      <td>male</td>\n",
       "      <td>97.90</td>\n",
       "      <td>56.28</td>\n",
       "      <td>27.99</td>\n",
       "      <td>99.9</td>\n",
       "      <td>20.16</td>\n",
       "      <td>4.45</td>\n",
       "    </tr>\n",
       "    <tr>\n",
       "      <th>76</th>\n",
       "      <td>96</td>\n",
       "      <td>SDG: Central Asia</td>\n",
       "      <td>Uzbekistan</td>\n",
       "      <td>2021</td>\n",
       "      <td>female</td>\n",
       "      <td>94.18</td>\n",
       "      <td>43.36</td>\n",
       "      <td>0.00</td>\n",
       "      <td>100.0</td>\n",
       "      <td>21.43</td>\n",
       "      <td>4.62</td>\n",
       "    </tr>\n",
       "    <tr>\n",
       "      <th>77</th>\n",
       "      <td>97</td>\n",
       "      <td>SDG: Central Asia</td>\n",
       "      <td>Uzbekistan</td>\n",
       "      <td>2021</td>\n",
       "      <td>male</td>\n",
       "      <td>95.90</td>\n",
       "      <td>44.63</td>\n",
       "      <td>0.00</td>\n",
       "      <td>100.0</td>\n",
       "      <td>21.43</td>\n",
       "      <td>4.62</td>\n",
       "    </tr>\n",
       "    <tr>\n",
       "      <th>94</th>\n",
       "      <td>114</td>\n",
       "      <td>SDG: Central and Southern Asia</td>\n",
       "      <td>Kazakhstan</td>\n",
       "      <td>2020</td>\n",
       "      <td>female</td>\n",
       "      <td>98.30</td>\n",
       "      <td>55.76</td>\n",
       "      <td>28.22</td>\n",
       "      <td>99.8</td>\n",
       "      <td>20.16</td>\n",
       "      <td>4.45</td>\n",
       "    </tr>\n",
       "  </tbody>\n",
       "</table>\n",
       "</div>"
      ],
      "text/plain": [
       "    Unnamed: 0                          Region     Country  Year  Gender  \\\n",
       "16          16               SDG: Central Asia  Kazakhstan  2020  female   \n",
       "17          17               SDG: Central Asia  Kazakhstan  2020    male   \n",
       "76          96               SDG: Central Asia  Uzbekistan  2021  female   \n",
       "77          97               SDG: Central Asia  Uzbekistan  2021    male   \n",
       "94         114  SDG: Central and Southern Asia  Kazakhstan  2020  female   \n",
       "\n",
       "    Completion rate, upper secondary education,  \\\n",
       "16                                        98.30   \n",
       "17                                        97.90   \n",
       "76                                        94.18   \n",
       "77                                        95.90   \n",
       "94                                        98.30   \n",
       "\n",
       "    Gross enrolment ratio, early childhood education,  \\\n",
       "16                                              55.76   \n",
       "17                                              56.28   \n",
       "76                                              43.36   \n",
       "77                                              44.63   \n",
       "94                                              55.76   \n",
       "\n",
       "    Gross enrolment ratio, early childhood educational development programmes,  \\\n",
       "16                                              28.22                            \n",
       "17                                              27.99                            \n",
       "76                                               0.00                            \n",
       "77                                               0.00                            \n",
       "94                                              28.22                            \n",
       "\n",
       "    Literacy rate, population 25-64 years,  \\\n",
       "16                                    99.8   \n",
       "17                                    99.9   \n",
       "76                                   100.0   \n",
       "77                                   100.0   \n",
       "94                                    99.8   \n",
       "\n",
       "    Expenditure on education as a percentage of total government expenditure (%)  \\\n",
       "16                                              20.16                              \n",
       "17                                              20.16                              \n",
       "76                                              21.43                              \n",
       "77                                              21.43                              \n",
       "94                                              20.16                              \n",
       "\n",
       "    Government expenditure on education as a percentage of GDP (%)  \n",
       "16                                               4.45               \n",
       "17                                               4.45               \n",
       "76                                               4.62               \n",
       "77                                               4.62               \n",
       "94                                               4.45               "
      ]
     },
     "execution_count": 33,
     "metadata": {},
     "output_type": "execute_result"
    }
   ],
   "source": [
    "mask_literacy= df4[\"Literacy rate, population 25-64 years,\"].notna()\n",
    "df5= df4[mask_literacy]\n",
    "df5.head()"
   ]
  },
  {
   "cell_type": "code",
   "execution_count": 34,
   "id": "7e2d0384",
   "metadata": {},
   "outputs": [],
   "source": [
    "#df5.corr()"
   ]
  },
  {
   "cell_type": "code",
   "execution_count": 35,
   "id": "43c192e6",
   "metadata": {},
   "outputs": [
    {
     "data": {
      "text/html": [
       "<div>\n",
       "<style scoped>\n",
       "    .dataframe tbody tr th:only-of-type {\n",
       "        vertical-align: middle;\n",
       "    }\n",
       "\n",
       "    .dataframe tbody tr th {\n",
       "        vertical-align: top;\n",
       "    }\n",
       "\n",
       "    .dataframe thead th {\n",
       "        text-align: right;\n",
       "    }\n",
       "</style>\n",
       "<table border=\"1\" class=\"dataframe\">\n",
       "  <thead>\n",
       "    <tr style=\"text-align: right;\">\n",
       "      <th></th>\n",
       "      <th>Unnamed: 0</th>\n",
       "      <th>Region</th>\n",
       "      <th>Country</th>\n",
       "      <th>Year</th>\n",
       "      <th>Gender</th>\n",
       "      <th>Completion rate, upper secondary education,</th>\n",
       "      <th>Gross enrolment ratio, early childhood education,</th>\n",
       "      <th>Gross enrolment ratio, early childhood educational development programmes,</th>\n",
       "      <th>Literacy rate, population 25-64 years,</th>\n",
       "      <th>Expenditure on education as a percentage of total government expenditure (%)</th>\n",
       "      <th>Government expenditure on education as a percentage of GDP (%)</th>\n",
       "    </tr>\n",
       "  </thead>\n",
       "  <tbody>\n",
       "    <tr>\n",
       "      <th>0</th>\n",
       "      <td>0</td>\n",
       "      <td>SDG: Central Asia</td>\n",
       "      <td>Kazakhstan</td>\n",
       "      <td>2012</td>\n",
       "      <td>female</td>\n",
       "      <td>96.9</td>\n",
       "      <td>NaN</td>\n",
       "      <td>NaN</td>\n",
       "      <td>NaN</td>\n",
       "      <td>19.25</td>\n",
       "      <td>3.90</td>\n",
       "    </tr>\n",
       "    <tr>\n",
       "      <th>1</th>\n",
       "      <td>1</td>\n",
       "      <td>SDG: Central Asia</td>\n",
       "      <td>Kazakhstan</td>\n",
       "      <td>2012</td>\n",
       "      <td>male</td>\n",
       "      <td>96.2</td>\n",
       "      <td>NaN</td>\n",
       "      <td>NaN</td>\n",
       "      <td>NaN</td>\n",
       "      <td>19.25</td>\n",
       "      <td>3.90</td>\n",
       "    </tr>\n",
       "    <tr>\n",
       "      <th>2</th>\n",
       "      <td>2</td>\n",
       "      <td>SDG: Central Asia</td>\n",
       "      <td>Kazakhstan</td>\n",
       "      <td>2013</td>\n",
       "      <td>female</td>\n",
       "      <td>97.0</td>\n",
       "      <td>NaN</td>\n",
       "      <td>NaN</td>\n",
       "      <td>NaN</td>\n",
       "      <td>17.96</td>\n",
       "      <td>3.44</td>\n",
       "    </tr>\n",
       "    <tr>\n",
       "      <th>3</th>\n",
       "      <td>3</td>\n",
       "      <td>SDG: Central Asia</td>\n",
       "      <td>Kazakhstan</td>\n",
       "      <td>2013</td>\n",
       "      <td>male</td>\n",
       "      <td>96.4</td>\n",
       "      <td>NaN</td>\n",
       "      <td>NaN</td>\n",
       "      <td>NaN</td>\n",
       "      <td>17.96</td>\n",
       "      <td>3.44</td>\n",
       "    </tr>\n",
       "    <tr>\n",
       "      <th>4</th>\n",
       "      <td>4</td>\n",
       "      <td>SDG: Central Asia</td>\n",
       "      <td>Kazakhstan</td>\n",
       "      <td>2014</td>\n",
       "      <td>female</td>\n",
       "      <td>97.2</td>\n",
       "      <td>36.65</td>\n",
       "      <td>0.0</td>\n",
       "      <td>NaN</td>\n",
       "      <td>17.32</td>\n",
       "      <td>3.42</td>\n",
       "    </tr>\n",
       "  </tbody>\n",
       "</table>\n",
       "</div>"
      ],
      "text/plain": [
       "   Unnamed: 0             Region     Country  Year  Gender  \\\n",
       "0           0  SDG: Central Asia  Kazakhstan  2012  female   \n",
       "1           1  SDG: Central Asia  Kazakhstan  2012    male   \n",
       "2           2  SDG: Central Asia  Kazakhstan  2013  female   \n",
       "3           3  SDG: Central Asia  Kazakhstan  2013    male   \n",
       "4           4  SDG: Central Asia  Kazakhstan  2014  female   \n",
       "\n",
       "   Completion rate, upper secondary education,  \\\n",
       "0                                         96.9   \n",
       "1                                         96.2   \n",
       "2                                         97.0   \n",
       "3                                         96.4   \n",
       "4                                         97.2   \n",
       "\n",
       "   Gross enrolment ratio, early childhood education,  \\\n",
       "0                                                NaN   \n",
       "1                                                NaN   \n",
       "2                                                NaN   \n",
       "3                                                NaN   \n",
       "4                                              36.65   \n",
       "\n",
       "   Gross enrolment ratio, early childhood educational development programmes,  \\\n",
       "0                                                NaN                            \n",
       "1                                                NaN                            \n",
       "2                                                NaN                            \n",
       "3                                                NaN                            \n",
       "4                                                0.0                            \n",
       "\n",
       "   Literacy rate, population 25-64 years,  \\\n",
       "0                                     NaN   \n",
       "1                                     NaN   \n",
       "2                                     NaN   \n",
       "3                                     NaN   \n",
       "4                                     NaN   \n",
       "\n",
       "   Expenditure on education as a percentage of total government expenditure (%)  \\\n",
       "0                                              19.25                              \n",
       "1                                              19.25                              \n",
       "2                                              17.96                              \n",
       "3                                              17.96                              \n",
       "4                                              17.32                              \n",
       "\n",
       "   Government expenditure on education as a percentage of GDP (%)  \n",
       "0                                               3.90               \n",
       "1                                               3.90               \n",
       "2                                               3.44               \n",
       "3                                               3.44               \n",
       "4                                               3.42               "
      ]
     },
     "execution_count": 35,
     "metadata": {},
     "output_type": "execute_result"
    }
   ],
   "source": [
    "df4.head()"
   ]
  },
  {
   "cell_type": "code",
   "execution_count": 36,
   "id": "ea3abf5b",
   "metadata": {},
   "outputs": [],
   "source": [
    "#df4[[\"Completion rate, upper secondary education\", \" Literacy rate, population 25-64 years\"]]"
   ]
  },
  {
   "cell_type": "code",
   "execution_count": 37,
   "id": "5d910432",
   "metadata": {},
   "outputs": [
    {
     "data": {
      "text/plain": [
       "count    488.000000\n",
       "mean      81.003730\n",
       "std       21.667577\n",
       "min        8.640000\n",
       "25%       68.735000\n",
       "50%       91.135000\n",
       "75%       96.212500\n",
       "max      100.000000\n",
       "Name: Literacy rate, population 25-64 years,, dtype: float64"
      ]
     },
     "execution_count": 37,
     "metadata": {},
     "output_type": "execute_result"
    }
   ],
   "source": [
    "df4[\"Literacy rate, population 25-64 years,\"].describe()"
   ]
  },
  {
   "cell_type": "markdown",
   "id": "b2c2ac5d",
   "metadata": {},
   "source": [
    "afr looking at the decsrition of the columns, i think it will be better we filled the missing values with the 25 percentile"
   ]
  },
  {
   "cell_type": "code",
   "execution_count": 38,
   "id": "c46e7882",
   "metadata": {},
   "outputs": [
    {
     "data": {
      "text/plain": [
       "count    1200.000000\n",
       "mean       47.348558\n",
       "std        28.918856\n",
       "min         0.720000\n",
       "25%        23.035000\n",
       "50%        43.860000\n",
       "75%        68.842500\n",
       "max       160.860000\n",
       "Name: Gross enrolment ratio, early childhood education,, dtype: float64"
      ]
     },
     "execution_count": 38,
     "metadata": {},
     "output_type": "execute_result"
    }
   ],
   "source": [
    "df4[\"Gross enrolment ratio, early childhood education,\"].describe()\n",
    "#Analyzing the Gross enrolment ratio, early childhood education, column"
   ]
  },
  {
   "cell_type": "code",
   "execution_count": 39,
   "id": "96494339",
   "metadata": {},
   "outputs": [
    {
     "data": {
      "text/plain": [
       "count    1552.000000\n",
       "mean        5.871662\n",
       "std        14.995167\n",
       "min         0.000000\n",
       "25%         0.000000\n",
       "50%         0.000000\n",
       "75%         1.335000\n",
       "max        93.540000\n",
       "Name: Gross enrolment ratio, early childhood educational development programmes,, dtype: float64"
      ]
     },
     "execution_count": 39,
     "metadata": {},
     "output_type": "execute_result"
    }
   ],
   "source": [
    "df4[\"Gross enrolment ratio, early childhood educational development programmes,\"].describe()\n",
    "#Analyzing the \"Gross enrolment ratio, early childhood educational development programmes, column"
   ]
  },
  {
   "cell_type": "code",
   "execution_count": 40,
   "id": "21c72aef",
   "metadata": {},
   "outputs": [],
   "source": [
    "df4[\"Literacy rate, population 25-64 years,\"] = df4[\"Literacy rate, population 25-64 years,\"].fillna(df4[\"Literacy rate, population 25-64 years,\"].quantile(0.25))\n",
    "df4[\"Gross enrolment ratio, early childhood education,\"] =df4[\"Gross enrolment ratio, early childhood education,\"].fillna(df4[\"Gross enrolment ratio, early childhood education,\"].mean)\n",
    "df4[\"Expenditure on education as a percentage of total government expenditure (%)\"] = df4[\"Expenditure on education as a percentage of total government expenditure (%)\"].fillna(df4[\"Expenditure on education as a percentage of total government expenditure (%)\"].mean())\n",
    "df4[\"Government expenditure on education as a percentage of GDP (%)\"] = df4[\"Government expenditure on education as a percentage of GDP (%)\"].fillna(df4[\"Government expenditure on education as a percentage of GDP (%)\"].mean())\n",
    "df4[\"Gross enrolment ratio, early childhood education,\"] =df4[\"Gross enrolment ratio, early childhood education,\"].fillna(df4[\"Gross enrolment ratio, early childhood education,\"].mean)\n",
    "df4[\"Gross enrolment ratio, early childhood educational development programmes,\"] = df4[\"Gross enrolment ratio, early childhood educational development programmes,\"].fillna(df4[\"Gross enrolment ratio, early childhood educational development programmes,\"].mean())\n"
   ]
  },
  {
   "cell_type": "code",
   "execution_count": 41,
   "id": "4c1c0ad8",
   "metadata": {},
   "outputs": [
    {
     "name": "stdout",
     "output_type": "stream",
     "text": [
      "The shape of the dataset is : (1876, 11)\n"
     ]
    },
    {
     "data": {
      "text/plain": [
       "Unnamed: 0                                                                      0.0\n",
       "Region                                                                          0.0\n",
       "Country                                                                         0.0\n",
       "Year                                                                            0.0\n",
       "Gender                                                                          0.0\n",
       "Completion rate, upper secondary education,                                     0.0\n",
       "Gross enrolment ratio, early childhood education,                               0.0\n",
       "Gross enrolment ratio, early childhood educational development programmes,      0.0\n",
       "Literacy rate, population 25-64 years,                                          0.0\n",
       "Expenditure on education as a percentage of total government expenditure (%)    0.0\n",
       "Government expenditure on education as a percentage of GDP (%)                  0.0\n",
       "dtype: float64"
      ]
     },
     "execution_count": 41,
     "metadata": {},
     "output_type": "execute_result"
    }
   ],
   "source": [
    "print(\"The shape of the dataset is :\", df4.shape)\n",
    "round((df4.isnull().sum()/len(df3) *100), 2)"
   ]
  },
  {
   "cell_type": "markdown",
   "id": "f411de2a",
   "metadata": {},
   "source": [
    "**Renaming the columns**"
   ]
  },
  {
   "cell_type": "code",
   "execution_count": 42,
   "id": "f85b7107",
   "metadata": {},
   "outputs": [],
   "source": [
    "new_column_names = {'Completion rate, upper secondary education,': 'Completion Rate for Primary Edu',\n",
    "                    'Gross enrolment ratio, early childhood education,': 'Childhood Education GER',\n",
    "                    'Gross enrolment ratio, early childhood educational development programmes,': 'Gross enrolment ratio, early childhood educational development programmes',\n",
    "                    'Gross intake ratio to the last grade of primary education': 'Last Grade Primary Edu GIR',\n",
    "                    'Literacy rate, population 25-64 years,': 'Literacy rate for 25-64 years old'\n",
    "                    }\n",
    "\n",
    "df4.rename(columns=new_column_names, inplace=True)\n"
   ]
  },
  {
   "cell_type": "code",
   "execution_count": 43,
   "id": "7e801bfe",
   "metadata": {},
   "outputs": [
    {
     "data": {
      "text/plain": [
       "Index(['Unnamed: 0', 'Region', 'Country', 'Year', 'Gender',\n",
       "       'Completion Rate for Primary Edu', 'Childhood Education GER',\n",
       "       'Gross enrolment ratio, early childhood educational development programmes',\n",
       "       'Literacy rate for 25-64 years old',\n",
       "       'Expenditure on education as a percentage of total government expenditure (%)',\n",
       "       'Government expenditure on education as a percentage of GDP (%)'],\n",
       "      dtype='object')"
      ]
     },
     "execution_count": 43,
     "metadata": {},
     "output_type": "execute_result"
    }
   ],
   "source": [
    "df4.columns"
   ]
  },
  {
   "cell_type": "code",
   "execution_count": 44,
   "id": "5cf66a8f",
   "metadata": {},
   "outputs": [
    {
     "data": {
      "text/html": [
       "<div>\n",
       "<style scoped>\n",
       "    .dataframe tbody tr th:only-of-type {\n",
       "        vertical-align: middle;\n",
       "    }\n",
       "\n",
       "    .dataframe tbody tr th {\n",
       "        vertical-align: top;\n",
       "    }\n",
       "\n",
       "    .dataframe thead th {\n",
       "        text-align: right;\n",
       "    }\n",
       "</style>\n",
       "<table border=\"1\" class=\"dataframe\">\n",
       "  <thead>\n",
       "    <tr style=\"text-align: right;\">\n",
       "      <th></th>\n",
       "      <th>Unnamed: 0</th>\n",
       "      <th>Region</th>\n",
       "      <th>Country</th>\n",
       "      <th>Year</th>\n",
       "      <th>Gender</th>\n",
       "      <th>Completion Rate for Primary Edu</th>\n",
       "      <th>Childhood Education GER</th>\n",
       "      <th>Gross enrolment ratio, early childhood educational development programmes</th>\n",
       "      <th>Literacy rate for 25-64 years old</th>\n",
       "      <th>Expenditure on education as a percentage of total government expenditure (%)</th>\n",
       "      <th>Government expenditure on education as a percentage of GDP (%)</th>\n",
       "    </tr>\n",
       "  </thead>\n",
       "  <tbody>\n",
       "    <tr>\n",
       "      <th>0</th>\n",
       "      <td>0</td>\n",
       "      <td>SDG: Central Asia</td>\n",
       "      <td>Kazakhstan</td>\n",
       "      <td>2012</td>\n",
       "      <td>female</td>\n",
       "      <td>96.9</td>\n",
       "      <td>&lt;bound method NDFrame._add_numeric_operations....</td>\n",
       "      <td>5.871662</td>\n",
       "      <td>68.735</td>\n",
       "      <td>19.25</td>\n",
       "      <td>3.90</td>\n",
       "    </tr>\n",
       "    <tr>\n",
       "      <th>1</th>\n",
       "      <td>1</td>\n",
       "      <td>SDG: Central Asia</td>\n",
       "      <td>Kazakhstan</td>\n",
       "      <td>2012</td>\n",
       "      <td>male</td>\n",
       "      <td>96.2</td>\n",
       "      <td>&lt;bound method NDFrame._add_numeric_operations....</td>\n",
       "      <td>5.871662</td>\n",
       "      <td>68.735</td>\n",
       "      <td>19.25</td>\n",
       "      <td>3.90</td>\n",
       "    </tr>\n",
       "    <tr>\n",
       "      <th>2</th>\n",
       "      <td>2</td>\n",
       "      <td>SDG: Central Asia</td>\n",
       "      <td>Kazakhstan</td>\n",
       "      <td>2013</td>\n",
       "      <td>female</td>\n",
       "      <td>97.0</td>\n",
       "      <td>&lt;bound method NDFrame._add_numeric_operations....</td>\n",
       "      <td>5.871662</td>\n",
       "      <td>68.735</td>\n",
       "      <td>17.96</td>\n",
       "      <td>3.44</td>\n",
       "    </tr>\n",
       "    <tr>\n",
       "      <th>3</th>\n",
       "      <td>3</td>\n",
       "      <td>SDG: Central Asia</td>\n",
       "      <td>Kazakhstan</td>\n",
       "      <td>2013</td>\n",
       "      <td>male</td>\n",
       "      <td>96.4</td>\n",
       "      <td>&lt;bound method NDFrame._add_numeric_operations....</td>\n",
       "      <td>5.871662</td>\n",
       "      <td>68.735</td>\n",
       "      <td>17.96</td>\n",
       "      <td>3.44</td>\n",
       "    </tr>\n",
       "    <tr>\n",
       "      <th>4</th>\n",
       "      <td>4</td>\n",
       "      <td>SDG: Central Asia</td>\n",
       "      <td>Kazakhstan</td>\n",
       "      <td>2014</td>\n",
       "      <td>female</td>\n",
       "      <td>97.2</td>\n",
       "      <td>36.65</td>\n",
       "      <td>0.000000</td>\n",
       "      <td>68.735</td>\n",
       "      <td>17.32</td>\n",
       "      <td>3.42</td>\n",
       "    </tr>\n",
       "  </tbody>\n",
       "</table>\n",
       "</div>"
      ],
      "text/plain": [
       "   Unnamed: 0             Region     Country  Year  Gender  \\\n",
       "0           0  SDG: Central Asia  Kazakhstan  2012  female   \n",
       "1           1  SDG: Central Asia  Kazakhstan  2012    male   \n",
       "2           2  SDG: Central Asia  Kazakhstan  2013  female   \n",
       "3           3  SDG: Central Asia  Kazakhstan  2013    male   \n",
       "4           4  SDG: Central Asia  Kazakhstan  2014  female   \n",
       "\n",
       "   Completion Rate for Primary Edu  \\\n",
       "0                             96.9   \n",
       "1                             96.2   \n",
       "2                             97.0   \n",
       "3                             96.4   \n",
       "4                             97.2   \n",
       "\n",
       "                             Childhood Education GER  \\\n",
       "0  <bound method NDFrame._add_numeric_operations....   \n",
       "1  <bound method NDFrame._add_numeric_operations....   \n",
       "2  <bound method NDFrame._add_numeric_operations....   \n",
       "3  <bound method NDFrame._add_numeric_operations....   \n",
       "4                                              36.65   \n",
       "\n",
       "   Gross enrolment ratio, early childhood educational development programmes  \\\n",
       "0                                           5.871662                           \n",
       "1                                           5.871662                           \n",
       "2                                           5.871662                           \n",
       "3                                           5.871662                           \n",
       "4                                           0.000000                           \n",
       "\n",
       "   Literacy rate for 25-64 years old  \\\n",
       "0                             68.735   \n",
       "1                             68.735   \n",
       "2                             68.735   \n",
       "3                             68.735   \n",
       "4                             68.735   \n",
       "\n",
       "   Expenditure on education as a percentage of total government expenditure (%)  \\\n",
       "0                                              19.25                              \n",
       "1                                              19.25                              \n",
       "2                                              17.96                              \n",
       "3                                              17.96                              \n",
       "4                                              17.32                              \n",
       "\n",
       "   Government expenditure on education as a percentage of GDP (%)  \n",
       "0                                               3.90               \n",
       "1                                               3.90               \n",
       "2                                               3.44               \n",
       "3                                               3.44               \n",
       "4                                               3.42               "
      ]
     },
     "execution_count": 44,
     "metadata": {},
     "output_type": "execute_result"
    }
   ],
   "source": [
    "df4.head()"
   ]
  },
  {
   "cell_type": "code",
   "execution_count": 45,
   "id": "43bb9419",
   "metadata": {},
   "outputs": [
    {
     "data": {
      "text/plain": [
       "(1876, 11)"
      ]
     },
     "execution_count": 45,
     "metadata": {},
     "output_type": "execute_result"
    }
   ],
   "source": [
    "df4.shape"
   ]
  },
  {
   "cell_type": "code",
   "execution_count": 46,
   "id": "4f080218",
   "metadata": {},
   "outputs": [],
   "source": [
    "df4.to_csv('Preprocessed Upper Secondary Edu.csv', index=False)\n",
    "#Saving the data"
   ]
  }
 ],
 "metadata": {
  "kernelspec": {
   "display_name": "Python 3 (ipykernel)",
   "language": "python",
   "name": "python3"
  },
  "language_info": {
   "codemirror_mode": {
    "name": "ipython",
    "version": 3
   },
   "file_extension": ".py",
   "mimetype": "text/x-python",
   "name": "python",
   "nbconvert_exporter": "python",
   "pygments_lexer": "ipython3",
   "version": "3.11.4"
  }
 },
 "nbformat": 4,
 "nbformat_minor": 5
}
