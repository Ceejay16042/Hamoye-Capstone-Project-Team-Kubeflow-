{
 "cells": [
  {
   "cell_type": "code",
   "execution_count": 1,
   "id": "2b7662c3",
   "metadata": {},
   "outputs": [],
   "source": [
    "import pandas as pd\n",
    "\n",
    "# Read the CSV file\n",
    "df = pd.read_csv(\"lower secondary metadata.csv\")\n",
    "\n",
    "# Drop unnecessary columns\n",
    "columns_to_drop = ['Target', 'Indicator Number', 'Metadata']\n",
    "df = df.drop(columns=columns_to_drop, axis='columns')\n",
    "\n",
    "# Pivot the Indicator name column into multiple columns\n",
    "df_pivoted = df.pivot_table(index=[\"Region\", \"Country\", \"Year\"], columns=\"Indicator Name\", values=\"Value\").reset_index()\n",
    "\n",
    "# Extract gender information and remove it from the column names\n",
    "df_pivoted.columns = df_pivoted.columns.str.replace(r'\\s+\\(%\\w+\\)$', '')\n",
    "df_pivoted.columns.name = None\n",
    "\n",
    "# Melt the pivoted DataFrame to reshape it\n",
    "df_melted = df_pivoted.melt(id_vars=[\"Region\", \"Country\", \"Year\"], var_name=\"Indicator Name\", value_name=\"Value\")\n",
    "\n",
    "# Split the \"Indicator Name\" column into \"Indicator\" and \"Gender\"\n",
    "df_melted[['Indicator', 'Gender']] = df_melted['Indicator Name'].str.extract(r'(.*)\\s+(male|female)')\n",
    "\n",
    "# Drop the \"Indicator Name\" column\n",
    "df_melted = df_melted.drop(columns=[\"Indicator Name\"])\n",
    "\n",
    "# Pivot the melted DataFrame to create separate columns for each indicator and gender\n",
    "df_final = df_melted.pivot_table(index=[\"Region\", \"Country\", \"Year\", \"Gender\"], columns=\"Indicator\", values=\"Value\").reset_index()\n",
    "\n",
    "# Reorder the columns as needed\n",
    "column_order = ['Region', 'Country', 'Year', 'Gender'] + list(df_final.columns[4:])\n",
    "df_final = df_final[column_order]\n",
    "\n",
    "# Display the final DataFrame\n",
    "#print(df_final)\n",
    "\n",
    "df_final.to_csv(\"KubeFlow lower secondary.csv\")"
   ]
  },
  {
   "cell_type": "code",
   "execution_count": 2,
   "id": "57dd2c2c",
   "metadata": {},
   "outputs": [
    {
     "data": {
      "text/plain": [
       "Index(['Region', 'Country', 'Year', 'Gender',\n",
       "       'Completion rate, lower secondary education,',\n",
       "       'Gross enrolment ratio, early childhood education,',\n",
       "       'Gross enrolment ratio, early childhood educational development programmes,',\n",
       "       'Gross intake ratio to the last grade of lower secondary general education,',\n",
       "       'Literacy rate, population 25-64 years,',\n",
       "       'Percentage of children under 5 years experiencing positive and stimulating home learning environments,',\n",
       "       'Percentage of students in lower secondary education who have their first or home language as language of instruction,',\n",
       "       'Percentage of teachers in lower secondary education who received in-service training in the last 12 months by type of training,',\n",
       "       'Teacher attrition rate from lower secondary education,'],\n",
       "      dtype='object', name='Indicator')"
      ]
     },
     "execution_count": 2,
     "metadata": {},
     "output_type": "execute_result"
    }
   ],
   "source": [
    "df_final.columns"
   ]
  },
  {
   "cell_type": "code",
   "execution_count": 3,
   "id": "2157310f",
   "metadata": {},
   "outputs": [
    {
     "data": {
      "text/plain": [
       "(4396, 13)"
      ]
     },
     "execution_count": 3,
     "metadata": {},
     "output_type": "execute_result"
    }
   ],
   "source": [
    "df_final.shape"
   ]
  },
  {
   "cell_type": "markdown",
   "id": "c2c2059a",
   "metadata": {},
   "source": [
    "# adding the columns to the csv file which are not present\n",
    "Some columns like \n",
    "\"Existence of funding mechanisms to reallocate education resources to disadvantaged populations\", \n",
    "\"Expenditure on education as a percentage of total government expenditure (%)\", \n",
    "\"Government expenditure on education as a percentage of GDP (%)\"\n",
    "are not present in the created csv file as there data is not specified for male/female specificly so adding them separately\n"
   ]
  },
  {
   "cell_type": "code",
   "execution_count": 4,
   "id": "d7239920",
   "metadata": {},
   "outputs": [],
   "source": [
    "df_Addcol = pd.read_csv(\"lower secondary metadata.csv\")\n",
    "\n",
    "columns_to_drop = ['Target', 'Indicator Number', 'Metadata']\n",
    "df_Addcol = df_Addcol.drop(columns=columns_to_drop, axis='columns')\n",
    "\n",
    "# Pivot the Indicator name column into multiple columns\n",
    "df_Addcol = df_Addcol.pivot_table(index=[\"Region\", \"Country\", \"Year\"], columns=\"Indicator Name\", values=\"Value\")\n",
    "\n",
    "df_Addcol.to_csv(\"try3.csv\")"
   ]
  },
  {
   "cell_type": "code",
   "execution_count": 5,
   "id": "59e46076",
   "metadata": {},
   "outputs": [],
   "source": [
    "# Import pandas library\n",
    "import pandas as pd\n",
    "\n",
    "# Read the first dataset as a dataframe\n",
    "df1 = pd.read_csv(\"KubeFlow lower secondary.csv\")\n",
    "\n",
    "# Read the second dataset as a dataframe\n",
    "df2 = pd.read_csv(\"try3.csv\")\n",
    "\n",
    "# Select the columns from the second dataset that you want to add to the first one\n",
    "cols = [\"Existence of funding mechanisms to reallocate education resources to disadvantaged populations\", \"Expenditure on education as a percentage of total government expenditure (%)\", \"Government expenditure on education as a percentage of GDP (%)\"]\n",
    "\n",
    "# Merge the two dataframes on country and year, keeping only the selected columns from the second one\n",
    "df_merged = pd.merge(df1, df2[[\"Country\", \"Year\"] + cols], on=[\"Country\", \"Year\"], how=\"left\")\n",
    "\n",
    "# Drop any duplicate rows from the merged dataframe\n",
    "df_merged = df_merged.drop_duplicates()\n",
    "\n"
   ]
  },
  {
   "cell_type": "code",
   "execution_count": 6,
   "id": "80f02095",
   "metadata": {},
   "outputs": [
    {
     "data": {
      "text/plain": [
       "(4396, 17)"
      ]
     },
     "execution_count": 6,
     "metadata": {},
     "output_type": "execute_result"
    }
   ],
   "source": [
    "df_merged.shape"
   ]
  },
  {
   "cell_type": "markdown",
   "id": "8145be75",
   "metadata": {},
   "source": [
    "# Removing duplicate regions\n",
    "As you can see below the region - Central Asia & Southern Asia are created separately but we a region Central and Southern Asia which has countries present in both/ so we will drop the separately created regions"
   ]
  },
  {
   "cell_type": "code",
   "execution_count": 7,
   "id": "2d7a927d",
   "metadata": {},
   "outputs": [
    {
     "name": "stdout",
     "output_type": "stream",
     "text": [
      "India appears 44 times in the first dataset.\n"
     ]
    }
   ],
   "source": [
    "\n",
    "country_counts = df_merged[\"Country\"].value_counts()\n",
    "\n",
    "country = \"India\"\n",
    "\n",
    "print(\"{} appears {} times in the first dataset.\".format(country, country_counts[country]))"
   ]
  },
  {
   "cell_type": "code",
   "execution_count": 8,
   "id": "b7806969",
   "metadata": {},
   "outputs": [
    {
     "name": "stdout",
     "output_type": "stream",
     "text": [
      "The unique regions in the dataset are:\n",
      "['SDG: Central Asia' 'SDG: Central and Southern Asia'\n",
      " 'SDG: Eastern and South-Eastern Asia' 'SDG: Europe and Northern America'\n",
      " 'SDG: Latin America and the Caribbean'\n",
      " 'SDG: Northern Africa and Western Asia' 'SDG: Oceania'\n",
      " 'SDG: Southern Asia' 'SDG: Sub-Saharan Africa']\n"
     ]
    }
   ],
   "source": [
    "\n",
    "regions = df_merged[\"Region\"].unique()\n",
    "\n",
    "print(\"The unique regions in the dataset are:\")\n",
    "print(regions)"
   ]
  },
  {
   "cell_type": "code",
   "execution_count": 9,
   "id": "99c4a170",
   "metadata": {},
   "outputs": [
    {
     "name": "stdout",
     "output_type": "stream",
     "text": [
      "The unique countries in each region are:\n",
      "Region\n",
      "SDG: Central Asia                        [Kazakhstan, Kyrgyzstan, Tajikistan, Turkmenis...\n",
      "SDG: Central and Southern Asia           [Kazakhstan, Kyrgyzstan, Tajikistan, Turkmenis...\n",
      "SDG: Eastern and South-Eastern Asia      [Brunei Darussalam, Cambodia, China, China, Ho...\n",
      "SDG: Europe and Northern America         [Albania, Andorra, Austria, Belarus, Belgium, ...\n",
      "SDG: Latin America and the Caribbean     [Anguilla, Antigua and Barbuda, Argentina, Aru...\n",
      "SDG: Northern Africa and Western Asia    [Algeria, Armenia, Azerbaijan, Bahrain, Cyprus...\n",
      "SDG: Oceania                             [Australia, Cook Islands, Fiji, Kiribati, Mars...\n",
      "SDG: Southern Asia                       [Afghanistan, Bangladesh, Bhutan, India, Iran ...\n",
      "SDG: Sub-Saharan Africa                  [Angola, Benin, Botswana, Burkina Faso, Burund...\n",
      "Name: Country, dtype: object\n"
     ]
    }
   ],
   "source": [
    "# Grouping the dataframe by Region and get the unique countries in each group\n",
    "country_groups = df_merged.groupby(\"Region\")[\"Country\"].unique()\n",
    "\n",
    "print(\"The unique countries in each region are:\")\n",
    "print(country_groups)"
   ]
  },
  {
   "cell_type": "code",
   "execution_count": 10,
   "id": "e2c17424",
   "metadata": {},
   "outputs": [
    {
     "name": "stdout",
     "output_type": "stream",
     "text": [
      "India appears 44 times in the first dataset.\n"
     ]
    }
   ],
   "source": [
    "\n",
    "country_counts = df_merged[\"Country\"].value_counts()\n",
    "\n",
    "country = \"India\"\n",
    "\n",
    "print(\"{} appears {} times in the first dataset.\".format(country, country_counts[country]))"
   ]
  },
  {
   "cell_type": "code",
   "execution_count": 11,
   "id": "4af00794",
   "metadata": {},
   "outputs": [
    {
     "data": {
      "text/plain": [
       "(4396, 17)"
      ]
     },
     "execution_count": 11,
     "metadata": {},
     "output_type": "execute_result"
    }
   ],
   "source": [
    "df_merged.shape"
   ]
  },
  {
   "cell_type": "markdown",
   "id": "ddc09c83",
   "metadata": {},
   "source": [
    "# Keeping only the devloping countries in the dataset"
   ]
  },
  {
   "cell_type": "code",
   "execution_count": 12,
   "id": "53aa72f3",
   "metadata": {},
   "outputs": [],
   "source": [
    "devloping_countries = ['Afghanistan',\n",
    "'Albania',\n",
    "'Algeria',\n",
    "'American Samoa',\n",
    "'Angola',\n",
    "'Antigua and Barbuda',\n",
    "'Argentina',\n",
    "'Armenia',\n",
    "'Azerbaijan',\n",
    "'Bangladesh',\n",
    "'Belarus',\n",
    "'Belize',\n",
    "'Benin',\n",
    "'Bhutan',\n",
    "'Bolivia',\n",
    "'Bosnia and Herzegovina',\n",
    "'Botswana',\n",
    "'Brazil',\n",
    "'Bulgaria',\n",
    "'Burkina Faso',\n",
    "'Burundi',\n",
    "'Cambodia',\n",
    "'Cameroon',\n",
    "'Cape Verde',\n",
    "'Central African Republic',\n",
    "'Chad',\n",
    "'Chile',\n",
    "'China',\n",
    "'Colombia',\n",
    "'Comoros',\n",
    "'Congo, Dem. Rep',\n",
    "'Congo, Rep.',\n",
    "'Costa Rica',\n",
    "'Côte d’Ivoire',\n",
    "'Cuba',\n",
    "'Djibouti',\n",
    "'Dominica',\n",
    "'Dominican Republic',\n",
    "'Ecuador',\n",
    "'Egypt, Arab Rep.',\n",
    "'El Salvador',\n",
    "'Eritrea',\n",
    "'Ethiopia',\n",
    "'Fiji',\n",
    "'Gabon',\n",
    "'Gambia',\n",
    "'Georgia',\n",
    "'Ghana',\n",
    "'Grenada',\n",
    "'Guatemala',\n",
    "'Guinea',\n",
    "'Guinea-Bisau',\n",
    "'Guyana',\n",
    "'Haiti',\n",
    "'Honduras',\n",
    "'India',\n",
    "'Indonesia',\n",
    "'Iran, Islamic Rep.',\n",
    "'Iraq',\n",
    "'Jamaica',\n",
    "'Jordan',\n",
    "'Kazakhstan',\n",
    "'Kenya',\n",
    "'Kiribati',\n",
    "'Korea, Dem Rep.',\n",
    "'Kosovo',\n",
    "'Kyrgyz Republic',\n",
    "'Lao PDR',\n",
    "'Latvia',\n",
    "'Lebanon',\n",
    "'Lesotho',\n",
    "'Liberia',\n",
    "'Libya',\n",
    "'Lithuania',\n",
    "'Macedonia, FYR',\n",
    "'Madagascar',\n",
    "'Malawi',\n",
    "'Malaysia',\n",
    "'Maldives',\n",
    "'Mali',\n",
    "'Marshall Islands',\n",
    "'Mauritania',\n",
    "'Mauritius',\n",
    "'Mayotte',\n",
    "'Mexico',\n",
    "'Micronesia, Fed. Sts.',\n",
    "'Moldova',\n",
    "'Mongolia',\n",
    "'Montenegro',\n",
    "'Morocco',\n",
    "'Mozambique',\n",
    "'Myanmar',\n",
    "'Namibia',\n",
    "'Nepal',\n",
    "'Nicaragua',\n",
    "'Niger',\n",
    "'Nigeria',\n",
    "'Pakistan',\n",
    "'Palau',\n",
    "'Panama',\n",
    "'Papua New Guinea',\n",
    "'Paraguay',\n",
    "'Peru',\n",
    "'Philippines',\n",
    "'Romania',\n",
    "'Russian Federation',\n",
    "'Rwanda',\n",
    "'Samoa',\n",
    "'São Tomé and Principe',\n",
    "'Senegal',\n",
    "'Serbia',\n",
    "'Seychelles',\n",
    "'Sierra Leone',\n",
    "'Solomon Islands',\n",
    "'Somalia',\n",
    "'South Africa',\n",
    "'Sri Lanka',\n",
    "'St. Kitts and Nevis',\n",
    "'St. Lucia',\n",
    "'St. Vincent and the Grenadines',\n",
    "'Sudan',\n",
    "'Suriname',\n",
    "'Swaziland',\n",
    "'Syrian Arab Republic',\n",
    "'Tajikistan',\n",
    "'Tanzania',\n",
    "'Thailand',\n",
    "'Timor-Leste',\n",
    "'Togo',\n",
    "'Tonga',\n",
    "'Tunisia',\n",
    "'Turkey',\n",
    "'Turkmenistan',\n",
    "'Tuvalu',\n",
    "'Uganda',\n",
    "'Ukraine',\n",
    "'Uruguay',\n",
    "'Uzbekistan',\n",
    "'Vanuatu',\n",
    "'Venezuela',\n",
    "'Vietnam',\n",
    "'West Bank and Gaza',\n",
    "'Yemen, Rep.',\n",
    "'Zambia',\n",
    "'Zimbabwe']\n"
   ]
  },
  {
   "cell_type": "code",
   "execution_count": 13,
   "id": "2ff2d34d",
   "metadata": {},
   "outputs": [
    {
     "data": {
      "text/plain": [
       "145"
      ]
     },
     "execution_count": 13,
     "metadata": {},
     "output_type": "execute_result"
    }
   ],
   "source": [
    "len(devloping_countries)"
   ]
  },
  {
   "cell_type": "code",
   "execution_count": 14,
   "id": "809e79c1",
   "metadata": {},
   "outputs": [],
   "source": [
    "filtered_df = df_merged[df_merged['Country'].isin(devloping_countries)]"
   ]
  },
  {
   "cell_type": "code",
   "execution_count": 15,
   "id": "5f073a5a",
   "metadata": {},
   "outputs": [
    {
     "data": {
      "text/plain": [
       "(2610, 17)"
      ]
     },
     "execution_count": 15,
     "metadata": {},
     "output_type": "execute_result"
    }
   ],
   "source": [
    "filtered_df.shape"
   ]
  },
  {
   "cell_type": "code",
   "execution_count": 16,
   "id": "71b6989c",
   "metadata": {},
   "outputs": [],
   "source": [
    "# Saving the dataframe as a new CSV file\n",
    "filtered_df.to_csv(\"lower secondary final.csv\", index=False)"
   ]
  }
 ],
 "metadata": {
  "kernelspec": {
   "display_name": "Python 3 (ipykernel)",
   "language": "python",
   "name": "python3"
  },
  "language_info": {
   "codemirror_mode": {
    "name": "ipython",
    "version": 3
   },
   "file_extension": ".py",
   "mimetype": "text/x-python",
   "name": "python",
   "nbconvert_exporter": "python",
   "pygments_lexer": "ipython3",
   "version": "3.11.4"
  }
 },
 "nbformat": 4,
 "nbformat_minor": 5
}
